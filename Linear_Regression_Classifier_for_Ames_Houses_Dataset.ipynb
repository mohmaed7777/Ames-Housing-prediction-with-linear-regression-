{
  "nbformat": 4,
  "nbformat_minor": 0,
  "metadata": {
    "colab": {
      "name": "Linear Regression Classifier for Ames Houses Dataset.ipynb",
      "provenance": [],
      "authorship_tag": "ABX9TyPnIJlYC5Xc7HESqPs1Uy42",
      "include_colab_link": true
    },
    "kernelspec": {
      "name": "python3",
      "display_name": "Python 3"
    }
  },
  "cells": [
    {
      "cell_type": "markdown",
      "metadata": {
        "id": "view-in-github",
        "colab_type": "text"
      },
      "source": [
        "<a href=\"https://colab.research.google.com/github/mohmaed7777/Ames-Housing-prediction-with-linear-regression-/blob/main/Linear_Regression_Classifier_for_Ames_Houses_Dataset.ipynb\" target=\"_parent\"><img src=\"https://colab.research.google.com/assets/colab-badge.svg\" alt=\"Open In Colab\"/></a>"
      ]
    },
    {
      "cell_type": "markdown",
      "metadata": {
        "id": "vm6hJxq1khJQ"
      },
      "source": [
        "#**Description:**\r\n",
        "**Iowa Housing Data:**\r\n",
        "\r\n",
        "\r\n",
        "The original Ames data that is being used for the competition House Prices: Advanced Regression Techniques and predicting sales price is edited and engineered to suit a beginner for applying a model without worrying too much about missing data while focusing on the features.\r\n",
        "\r\n",
        "**Contents:**\r\n",
        "The train data has the shape 1460x80 and test data has the shape 1458x79 with feature 'SalePrice' to be predicted for the test set.\r\n",
        "The train data has different types of features, categorical and numerical.\r\n",
        "\r\n",
        "A detailed info about the data can be obtained from the Data Description file among other data files.\r\n",
        "\r\n",
        "**Transformations:**\r\n",
        "\r\n",
        "\r\n",
        "**a. Handling Missing Values:**\r\n",
        "\r\n",
        "\r\n",
        "Some variables such as 'PoolQC', 'MiscFeature', 'Alley' have over 90% missing values. However from the data description, it is implied that the missing value indicates the absence of such features in a particular house. Well, most of the missing data implies the feature does not exist for the particular house on further inspection of the dataset and data description.\r\n",
        "\r\n",
        "Similarly, features which are missing such as 'GarageType', 'GarageYrBuilt', 'BsmtExposure', etc indicated no garage in that house but also corresponding attributes such as 'GarageCars', 'GarageArea','BsmtCond' etc are set to 0.\r\n",
        "\r\n",
        "A house on a street might have similar front lawn area to the houses in the same neighborhood, hence the missing values can be median of the values in a neighborhood.\r\n",
        "\r\n",
        "Missing values in features such as 'SaleType', 'KitchenCond', etc have been imputed with the mode of the feature.\r\n",
        "\r\n",
        "**b. Dropping Variables:**\r\n",
        "\r\n",
        "\r\n",
        "'Utilities' attribute should be dropped from the data frame because almost all the houses have all public Utilities (E,G,W,& S) available.\r\n",
        "\r\n",
        "**c. Further exploration:**\r\n",
        "\r\n",
        "\r\n",
        "The feature 'Electrical' has one missing value. The first intuition would be to drop the row. But on further inspection, the missing value is from a house built in 2006. After the 1970's all the houses have Standard Circuit Breakers & Romex 'SkBrkr' installed. So, the value can be inferred from this observation.\r\n",
        "\r\n",
        "**d. Transformation:**\r\n",
        "\r\n",
        "\r\n",
        "There were some variables which are really categorical but were represented numerically such as 'MSSubClass', 'OverallCond' and 'YearSold'/'MonthSold' as they are discrete in nature. These have also been transformed to categorical variables.\r\n",
        "\r\n",
        "e. X Normalizing the 'SalePrice' Variable:\r\n",
        "During EDA it was discovered that the Sale price of homes is right skewed. However on normalizing the skewness decreases and the (linear) models fit better. The feature is left for the user to normalize.\r\n",
        "\r\n",
        "Finally the train and test sets were split and sale price appended to train set."
      ]
    },
    {
      "cell_type": "code",
      "metadata": {
        "colab": {
          "base_uri": "https://localhost:8080/"
        },
        "id": "ws2fEqQZ29KJ",
        "outputId": "ae969326-a272-4e73-ae92-08a02eb8cc69"
      },
      "source": [
        "import pandas as pd \r\n",
        "import numpy as np \r\n",
        "import matplotlib.pyplot as plt \r\n",
        "%matplotlib inline \r\n",
        "import seaborn as sns \r\n",
        "import sklearn \r\n",
        "from sklearn.linear_model import LinearRegression\r\n",
        "from sklearn.model_selection import train_test_split \r\n",
        "from sklearn.preprocessing import (StandardScaler, PolynomialFeatures)\r\n",
        "from sklearn.metrics import r2_score\r\n",
        "%pylab inline\r\n",
        "%config InlineBackend.figure_formats=['retina']\r\n",
        "print('Setup Complete^_____^')"
      ],
      "execution_count": 2,
      "outputs": [
        {
          "output_type": "stream",
          "text": [
            "Populating the interactive namespace from numpy and matplotlib\n",
            "Setup Complete^_____^\n"
          ],
          "name": "stdout"
        }
      ]
    },
    {
      "cell_type": "code",
      "metadata": {
        "colab": {
          "base_uri": "https://localhost:8080/",
          "height": 215
        },
        "id": "XWjdBvcr3u0u",
        "outputId": "271d1739-9fb2-4acf-dca9-4a6964b87f56"
      },
      "source": [
        "file_path = '/content/KEh0FlFxQOuIdBZRcXDrwA_0dde15d9a6514d0e8a0fa13c41b9e1d7_Ames_Housing_Sales.csv'\r\n",
        "df = pd.read_csv(file_path)\r\n",
        "df.head()"
      ],
      "execution_count": 3,
      "outputs": [
        {
          "output_type": "execute_result",
          "data": {
            "text/html": [
              "<div>\n",
              "<style scoped>\n",
              "    .dataframe tbody tr th:only-of-type {\n",
              "        vertical-align: middle;\n",
              "    }\n",
              "\n",
              "    .dataframe tbody tr th {\n",
              "        vertical-align: top;\n",
              "    }\n",
              "\n",
              "    .dataframe thead th {\n",
              "        text-align: right;\n",
              "    }\n",
              "</style>\n",
              "<table border=\"1\" class=\"dataframe\">\n",
              "  <thead>\n",
              "    <tr style=\"text-align: right;\">\n",
              "      <th></th>\n",
              "      <th>1stFlrSF</th>\n",
              "      <th>2ndFlrSF</th>\n",
              "      <th>3SsnPorch</th>\n",
              "      <th>Alley</th>\n",
              "      <th>BedroomAbvGr</th>\n",
              "      <th>BldgType</th>\n",
              "      <th>BsmtCond</th>\n",
              "      <th>BsmtExposure</th>\n",
              "      <th>BsmtFinSF1</th>\n",
              "      <th>BsmtFinSF2</th>\n",
              "      <th>BsmtFinType1</th>\n",
              "      <th>BsmtFinType2</th>\n",
              "      <th>BsmtFullBath</th>\n",
              "      <th>BsmtHalfBath</th>\n",
              "      <th>BsmtQual</th>\n",
              "      <th>BsmtUnfSF</th>\n",
              "      <th>CentralAir</th>\n",
              "      <th>Condition1</th>\n",
              "      <th>Condition2</th>\n",
              "      <th>Electrical</th>\n",
              "      <th>EnclosedPorch</th>\n",
              "      <th>ExterCond</th>\n",
              "      <th>ExterQual</th>\n",
              "      <th>Exterior1st</th>\n",
              "      <th>Exterior2nd</th>\n",
              "      <th>Fence</th>\n",
              "      <th>FireplaceQu</th>\n",
              "      <th>Fireplaces</th>\n",
              "      <th>Foundation</th>\n",
              "      <th>FullBath</th>\n",
              "      <th>Functional</th>\n",
              "      <th>GarageArea</th>\n",
              "      <th>GarageCars</th>\n",
              "      <th>GarageCond</th>\n",
              "      <th>GarageFinish</th>\n",
              "      <th>GarageQual</th>\n",
              "      <th>GarageType</th>\n",
              "      <th>GarageYrBlt</th>\n",
              "      <th>GrLivArea</th>\n",
              "      <th>HalfBath</th>\n",
              "      <th>Heating</th>\n",
              "      <th>HeatingQC</th>\n",
              "      <th>HouseStyle</th>\n",
              "      <th>KitchenAbvGr</th>\n",
              "      <th>KitchenQual</th>\n",
              "      <th>LandContour</th>\n",
              "      <th>LandSlope</th>\n",
              "      <th>LotArea</th>\n",
              "      <th>LotConfig</th>\n",
              "      <th>LotFrontage</th>\n",
              "      <th>LotShape</th>\n",
              "      <th>LowQualFinSF</th>\n",
              "      <th>MSSubClass</th>\n",
              "      <th>MSZoning</th>\n",
              "      <th>MasVnrArea</th>\n",
              "      <th>MasVnrType</th>\n",
              "      <th>MiscFeature</th>\n",
              "      <th>MiscVal</th>\n",
              "      <th>MoSold</th>\n",
              "      <th>Neighborhood</th>\n",
              "      <th>OpenPorchSF</th>\n",
              "      <th>OverallCond</th>\n",
              "      <th>OverallQual</th>\n",
              "      <th>PavedDrive</th>\n",
              "      <th>PoolArea</th>\n",
              "      <th>PoolQC</th>\n",
              "      <th>RoofMatl</th>\n",
              "      <th>RoofStyle</th>\n",
              "      <th>SaleCondition</th>\n",
              "      <th>SaleType</th>\n",
              "      <th>ScreenPorch</th>\n",
              "      <th>Street</th>\n",
              "      <th>TotRmsAbvGrd</th>\n",
              "      <th>TotalBsmtSF</th>\n",
              "      <th>Utilities</th>\n",
              "      <th>WoodDeckSF</th>\n",
              "      <th>YearBuilt</th>\n",
              "      <th>YearRemodAdd</th>\n",
              "      <th>YrSold</th>\n",
              "      <th>SalePrice</th>\n",
              "    </tr>\n",
              "  </thead>\n",
              "  <tbody>\n",
              "    <tr>\n",
              "      <th>0</th>\n",
              "      <td>856.0</td>\n",
              "      <td>854.0</td>\n",
              "      <td>0.0</td>\n",
              "      <td>None</td>\n",
              "      <td>3</td>\n",
              "      <td>1Fam</td>\n",
              "      <td>TA</td>\n",
              "      <td>No</td>\n",
              "      <td>706.0</td>\n",
              "      <td>0.0</td>\n",
              "      <td>GLQ</td>\n",
              "      <td>Unf</td>\n",
              "      <td>1</td>\n",
              "      <td>0</td>\n",
              "      <td>Gd</td>\n",
              "      <td>150.0</td>\n",
              "      <td>Y</td>\n",
              "      <td>Norm</td>\n",
              "      <td>Norm</td>\n",
              "      <td>SBrkr</td>\n",
              "      <td>0.0</td>\n",
              "      <td>TA</td>\n",
              "      <td>Gd</td>\n",
              "      <td>VinylSd</td>\n",
              "      <td>VinylSd</td>\n",
              "      <td>None</td>\n",
              "      <td>None</td>\n",
              "      <td>0</td>\n",
              "      <td>PConc</td>\n",
              "      <td>2</td>\n",
              "      <td>Typ</td>\n",
              "      <td>548.0</td>\n",
              "      <td>2</td>\n",
              "      <td>TA</td>\n",
              "      <td>RFn</td>\n",
              "      <td>TA</td>\n",
              "      <td>Attchd</td>\n",
              "      <td>2003.0</td>\n",
              "      <td>1710.0</td>\n",
              "      <td>1</td>\n",
              "      <td>GasA</td>\n",
              "      <td>Ex</td>\n",
              "      <td>2Story</td>\n",
              "      <td>1</td>\n",
              "      <td>Gd</td>\n",
              "      <td>Lvl</td>\n",
              "      <td>Gtl</td>\n",
              "      <td>8450.0</td>\n",
              "      <td>Inside</td>\n",
              "      <td>65.0</td>\n",
              "      <td>Reg</td>\n",
              "      <td>0.0</td>\n",
              "      <td>60</td>\n",
              "      <td>RL</td>\n",
              "      <td>196.0</td>\n",
              "      <td>BrkFace</td>\n",
              "      <td>None</td>\n",
              "      <td>0.0</td>\n",
              "      <td>2</td>\n",
              "      <td>CollgCr</td>\n",
              "      <td>61.0</td>\n",
              "      <td>5</td>\n",
              "      <td>7</td>\n",
              "      <td>Y</td>\n",
              "      <td>0.0</td>\n",
              "      <td>None</td>\n",
              "      <td>CompShg</td>\n",
              "      <td>Gable</td>\n",
              "      <td>Normal</td>\n",
              "      <td>WD</td>\n",
              "      <td>0.0</td>\n",
              "      <td>Pave</td>\n",
              "      <td>8</td>\n",
              "      <td>856.0</td>\n",
              "      <td>AllPub</td>\n",
              "      <td>0.0</td>\n",
              "      <td>2003</td>\n",
              "      <td>2003</td>\n",
              "      <td>2008</td>\n",
              "      <td>208500.0</td>\n",
              "    </tr>\n",
              "    <tr>\n",
              "      <th>1</th>\n",
              "      <td>1262.0</td>\n",
              "      <td>0.0</td>\n",
              "      <td>0.0</td>\n",
              "      <td>None</td>\n",
              "      <td>3</td>\n",
              "      <td>1Fam</td>\n",
              "      <td>TA</td>\n",
              "      <td>Gd</td>\n",
              "      <td>978.0</td>\n",
              "      <td>0.0</td>\n",
              "      <td>ALQ</td>\n",
              "      <td>Unf</td>\n",
              "      <td>0</td>\n",
              "      <td>1</td>\n",
              "      <td>Gd</td>\n",
              "      <td>284.0</td>\n",
              "      <td>Y</td>\n",
              "      <td>Feedr</td>\n",
              "      <td>Norm</td>\n",
              "      <td>SBrkr</td>\n",
              "      <td>0.0</td>\n",
              "      <td>TA</td>\n",
              "      <td>TA</td>\n",
              "      <td>MetalSd</td>\n",
              "      <td>MetalSd</td>\n",
              "      <td>None</td>\n",
              "      <td>TA</td>\n",
              "      <td>1</td>\n",
              "      <td>CBlock</td>\n",
              "      <td>2</td>\n",
              "      <td>Typ</td>\n",
              "      <td>460.0</td>\n",
              "      <td>2</td>\n",
              "      <td>TA</td>\n",
              "      <td>RFn</td>\n",
              "      <td>TA</td>\n",
              "      <td>Attchd</td>\n",
              "      <td>1976.0</td>\n",
              "      <td>1262.0</td>\n",
              "      <td>0</td>\n",
              "      <td>GasA</td>\n",
              "      <td>Ex</td>\n",
              "      <td>1Story</td>\n",
              "      <td>1</td>\n",
              "      <td>TA</td>\n",
              "      <td>Lvl</td>\n",
              "      <td>Gtl</td>\n",
              "      <td>9600.0</td>\n",
              "      <td>FR2</td>\n",
              "      <td>80.0</td>\n",
              "      <td>Reg</td>\n",
              "      <td>0.0</td>\n",
              "      <td>20</td>\n",
              "      <td>RL</td>\n",
              "      <td>0.0</td>\n",
              "      <td>None</td>\n",
              "      <td>None</td>\n",
              "      <td>0.0</td>\n",
              "      <td>5</td>\n",
              "      <td>Veenker</td>\n",
              "      <td>0.0</td>\n",
              "      <td>8</td>\n",
              "      <td>6</td>\n",
              "      <td>Y</td>\n",
              "      <td>0.0</td>\n",
              "      <td>None</td>\n",
              "      <td>CompShg</td>\n",
              "      <td>Gable</td>\n",
              "      <td>Normal</td>\n",
              "      <td>WD</td>\n",
              "      <td>0.0</td>\n",
              "      <td>Pave</td>\n",
              "      <td>6</td>\n",
              "      <td>1262.0</td>\n",
              "      <td>AllPub</td>\n",
              "      <td>298.0</td>\n",
              "      <td>1976</td>\n",
              "      <td>1976</td>\n",
              "      <td>2007</td>\n",
              "      <td>181500.0</td>\n",
              "    </tr>\n",
              "    <tr>\n",
              "      <th>2</th>\n",
              "      <td>920.0</td>\n",
              "      <td>866.0</td>\n",
              "      <td>0.0</td>\n",
              "      <td>None</td>\n",
              "      <td>3</td>\n",
              "      <td>1Fam</td>\n",
              "      <td>TA</td>\n",
              "      <td>Mn</td>\n",
              "      <td>486.0</td>\n",
              "      <td>0.0</td>\n",
              "      <td>GLQ</td>\n",
              "      <td>Unf</td>\n",
              "      <td>1</td>\n",
              "      <td>0</td>\n",
              "      <td>Gd</td>\n",
              "      <td>434.0</td>\n",
              "      <td>Y</td>\n",
              "      <td>Norm</td>\n",
              "      <td>Norm</td>\n",
              "      <td>SBrkr</td>\n",
              "      <td>0.0</td>\n",
              "      <td>TA</td>\n",
              "      <td>Gd</td>\n",
              "      <td>VinylSd</td>\n",
              "      <td>VinylSd</td>\n",
              "      <td>None</td>\n",
              "      <td>TA</td>\n",
              "      <td>1</td>\n",
              "      <td>PConc</td>\n",
              "      <td>2</td>\n",
              "      <td>Typ</td>\n",
              "      <td>608.0</td>\n",
              "      <td>2</td>\n",
              "      <td>TA</td>\n",
              "      <td>RFn</td>\n",
              "      <td>TA</td>\n",
              "      <td>Attchd</td>\n",
              "      <td>2001.0</td>\n",
              "      <td>1786.0</td>\n",
              "      <td>1</td>\n",
              "      <td>GasA</td>\n",
              "      <td>Ex</td>\n",
              "      <td>2Story</td>\n",
              "      <td>1</td>\n",
              "      <td>Gd</td>\n",
              "      <td>Lvl</td>\n",
              "      <td>Gtl</td>\n",
              "      <td>11250.0</td>\n",
              "      <td>Inside</td>\n",
              "      <td>68.0</td>\n",
              "      <td>IR1</td>\n",
              "      <td>0.0</td>\n",
              "      <td>60</td>\n",
              "      <td>RL</td>\n",
              "      <td>162.0</td>\n",
              "      <td>BrkFace</td>\n",
              "      <td>None</td>\n",
              "      <td>0.0</td>\n",
              "      <td>9</td>\n",
              "      <td>CollgCr</td>\n",
              "      <td>42.0</td>\n",
              "      <td>5</td>\n",
              "      <td>7</td>\n",
              "      <td>Y</td>\n",
              "      <td>0.0</td>\n",
              "      <td>None</td>\n",
              "      <td>CompShg</td>\n",
              "      <td>Gable</td>\n",
              "      <td>Normal</td>\n",
              "      <td>WD</td>\n",
              "      <td>0.0</td>\n",
              "      <td>Pave</td>\n",
              "      <td>6</td>\n",
              "      <td>920.0</td>\n",
              "      <td>AllPub</td>\n",
              "      <td>0.0</td>\n",
              "      <td>2001</td>\n",
              "      <td>2002</td>\n",
              "      <td>2008</td>\n",
              "      <td>223500.0</td>\n",
              "    </tr>\n",
              "    <tr>\n",
              "      <th>3</th>\n",
              "      <td>961.0</td>\n",
              "      <td>756.0</td>\n",
              "      <td>0.0</td>\n",
              "      <td>None</td>\n",
              "      <td>3</td>\n",
              "      <td>1Fam</td>\n",
              "      <td>Gd</td>\n",
              "      <td>No</td>\n",
              "      <td>216.0</td>\n",
              "      <td>0.0</td>\n",
              "      <td>ALQ</td>\n",
              "      <td>Unf</td>\n",
              "      <td>1</td>\n",
              "      <td>0</td>\n",
              "      <td>TA</td>\n",
              "      <td>540.0</td>\n",
              "      <td>Y</td>\n",
              "      <td>Norm</td>\n",
              "      <td>Norm</td>\n",
              "      <td>SBrkr</td>\n",
              "      <td>272.0</td>\n",
              "      <td>TA</td>\n",
              "      <td>TA</td>\n",
              "      <td>Wd Sdng</td>\n",
              "      <td>Wd Shng</td>\n",
              "      <td>None</td>\n",
              "      <td>Gd</td>\n",
              "      <td>1</td>\n",
              "      <td>BrkTil</td>\n",
              "      <td>1</td>\n",
              "      <td>Typ</td>\n",
              "      <td>642.0</td>\n",
              "      <td>3</td>\n",
              "      <td>TA</td>\n",
              "      <td>Unf</td>\n",
              "      <td>TA</td>\n",
              "      <td>Detchd</td>\n",
              "      <td>1998.0</td>\n",
              "      <td>1717.0</td>\n",
              "      <td>0</td>\n",
              "      <td>GasA</td>\n",
              "      <td>Gd</td>\n",
              "      <td>2Story</td>\n",
              "      <td>1</td>\n",
              "      <td>Gd</td>\n",
              "      <td>Lvl</td>\n",
              "      <td>Gtl</td>\n",
              "      <td>9550.0</td>\n",
              "      <td>Corner</td>\n",
              "      <td>60.0</td>\n",
              "      <td>IR1</td>\n",
              "      <td>0.0</td>\n",
              "      <td>70</td>\n",
              "      <td>RL</td>\n",
              "      <td>0.0</td>\n",
              "      <td>None</td>\n",
              "      <td>None</td>\n",
              "      <td>0.0</td>\n",
              "      <td>2</td>\n",
              "      <td>Crawfor</td>\n",
              "      <td>35.0</td>\n",
              "      <td>5</td>\n",
              "      <td>7</td>\n",
              "      <td>Y</td>\n",
              "      <td>0.0</td>\n",
              "      <td>None</td>\n",
              "      <td>CompShg</td>\n",
              "      <td>Gable</td>\n",
              "      <td>Abnorml</td>\n",
              "      <td>WD</td>\n",
              "      <td>0.0</td>\n",
              "      <td>Pave</td>\n",
              "      <td>7</td>\n",
              "      <td>756.0</td>\n",
              "      <td>AllPub</td>\n",
              "      <td>0.0</td>\n",
              "      <td>1915</td>\n",
              "      <td>1970</td>\n",
              "      <td>2006</td>\n",
              "      <td>140000.0</td>\n",
              "    </tr>\n",
              "    <tr>\n",
              "      <th>4</th>\n",
              "      <td>1145.0</td>\n",
              "      <td>1053.0</td>\n",
              "      <td>0.0</td>\n",
              "      <td>None</td>\n",
              "      <td>4</td>\n",
              "      <td>1Fam</td>\n",
              "      <td>TA</td>\n",
              "      <td>Av</td>\n",
              "      <td>655.0</td>\n",
              "      <td>0.0</td>\n",
              "      <td>GLQ</td>\n",
              "      <td>Unf</td>\n",
              "      <td>1</td>\n",
              "      <td>0</td>\n",
              "      <td>Gd</td>\n",
              "      <td>490.0</td>\n",
              "      <td>Y</td>\n",
              "      <td>Norm</td>\n",
              "      <td>Norm</td>\n",
              "      <td>SBrkr</td>\n",
              "      <td>0.0</td>\n",
              "      <td>TA</td>\n",
              "      <td>Gd</td>\n",
              "      <td>VinylSd</td>\n",
              "      <td>VinylSd</td>\n",
              "      <td>None</td>\n",
              "      <td>TA</td>\n",
              "      <td>1</td>\n",
              "      <td>PConc</td>\n",
              "      <td>2</td>\n",
              "      <td>Typ</td>\n",
              "      <td>836.0</td>\n",
              "      <td>3</td>\n",
              "      <td>TA</td>\n",
              "      <td>RFn</td>\n",
              "      <td>TA</td>\n",
              "      <td>Attchd</td>\n",
              "      <td>2000.0</td>\n",
              "      <td>2198.0</td>\n",
              "      <td>1</td>\n",
              "      <td>GasA</td>\n",
              "      <td>Ex</td>\n",
              "      <td>2Story</td>\n",
              "      <td>1</td>\n",
              "      <td>Gd</td>\n",
              "      <td>Lvl</td>\n",
              "      <td>Gtl</td>\n",
              "      <td>14260.0</td>\n",
              "      <td>FR2</td>\n",
              "      <td>84.0</td>\n",
              "      <td>IR1</td>\n",
              "      <td>0.0</td>\n",
              "      <td>60</td>\n",
              "      <td>RL</td>\n",
              "      <td>350.0</td>\n",
              "      <td>BrkFace</td>\n",
              "      <td>None</td>\n",
              "      <td>0.0</td>\n",
              "      <td>12</td>\n",
              "      <td>NoRidge</td>\n",
              "      <td>84.0</td>\n",
              "      <td>5</td>\n",
              "      <td>8</td>\n",
              "      <td>Y</td>\n",
              "      <td>0.0</td>\n",
              "      <td>None</td>\n",
              "      <td>CompShg</td>\n",
              "      <td>Gable</td>\n",
              "      <td>Normal</td>\n",
              "      <td>WD</td>\n",
              "      <td>0.0</td>\n",
              "      <td>Pave</td>\n",
              "      <td>9</td>\n",
              "      <td>1145.0</td>\n",
              "      <td>AllPub</td>\n",
              "      <td>192.0</td>\n",
              "      <td>2000</td>\n",
              "      <td>2000</td>\n",
              "      <td>2008</td>\n",
              "      <td>250000.0</td>\n",
              "    </tr>\n",
              "  </tbody>\n",
              "</table>\n",
              "</div>"
            ],
            "text/plain": [
              "   1stFlrSF  2ndFlrSF  3SsnPorch  ... YearRemodAdd  YrSold SalePrice\n",
              "0     856.0     854.0        0.0  ...         2003    2008  208500.0\n",
              "1    1262.0       0.0        0.0  ...         1976    2007  181500.0\n",
              "2     920.0     866.0        0.0  ...         2002    2008  223500.0\n",
              "3     961.0     756.0        0.0  ...         1970    2006  140000.0\n",
              "4    1145.0    1053.0        0.0  ...         2000    2008  250000.0\n",
              "\n",
              "[5 rows x 80 columns]"
            ]
          },
          "metadata": {
            "tags": []
          },
          "execution_count": 3
        }
      ]
    },
    {
      "cell_type": "code",
      "metadata": {
        "colab": {
          "base_uri": "https://localhost:8080/"
        },
        "id": "SzuY1Onc4qJS",
        "outputId": "ff58fb98-ea43-4c49-8aac-ffdbd92042aa"
      },
      "source": [
        "df.shape"
      ],
      "execution_count": 4,
      "outputs": [
        {
          "output_type": "execute_result",
          "data": {
            "text/plain": [
              "(1379, 80)"
            ]
          },
          "metadata": {
            "tags": []
          },
          "execution_count": 4
        }
      ]
    },
    {
      "cell_type": "code",
      "metadata": {
        "colab": {
          "base_uri": "https://localhost:8080/"
        },
        "id": "O7VgJITk47fD",
        "outputId": "d9237c60-00a2-40a0-ee72-fb5f3be1ffdb"
      },
      "source": [
        "df.info()"
      ],
      "execution_count": 5,
      "outputs": [
        {
          "output_type": "stream",
          "text": [
            "<class 'pandas.core.frame.DataFrame'>\n",
            "RangeIndex: 1379 entries, 0 to 1378\n",
            "Data columns (total 80 columns):\n",
            " #   Column         Non-Null Count  Dtype  \n",
            "---  ------         --------------  -----  \n",
            " 0   1stFlrSF       1379 non-null   float64\n",
            " 1   2ndFlrSF       1379 non-null   float64\n",
            " 2   3SsnPorch      1379 non-null   float64\n",
            " 3   Alley          1379 non-null   object \n",
            " 4   BedroomAbvGr   1379 non-null   int64  \n",
            " 5   BldgType       1379 non-null   object \n",
            " 6   BsmtCond       1379 non-null   object \n",
            " 7   BsmtExposure   1379 non-null   object \n",
            " 8   BsmtFinSF1     1379 non-null   float64\n",
            " 9   BsmtFinSF2     1379 non-null   float64\n",
            " 10  BsmtFinType1   1379 non-null   object \n",
            " 11  BsmtFinType2   1379 non-null   object \n",
            " 12  BsmtFullBath   1379 non-null   int64  \n",
            " 13  BsmtHalfBath   1379 non-null   int64  \n",
            " 14  BsmtQual       1379 non-null   object \n",
            " 15  BsmtUnfSF      1379 non-null   float64\n",
            " 16  CentralAir     1379 non-null   object \n",
            " 17  Condition1     1379 non-null   object \n",
            " 18  Condition2     1379 non-null   object \n",
            " 19  Electrical     1379 non-null   object \n",
            " 20  EnclosedPorch  1379 non-null   float64\n",
            " 21  ExterCond      1379 non-null   object \n",
            " 22  ExterQual      1379 non-null   object \n",
            " 23  Exterior1st    1379 non-null   object \n",
            " 24  Exterior2nd    1379 non-null   object \n",
            " 25  Fence          1379 non-null   object \n",
            " 26  FireplaceQu    1379 non-null   object \n",
            " 27  Fireplaces     1379 non-null   int64  \n",
            " 28  Foundation     1379 non-null   object \n",
            " 29  FullBath       1379 non-null   int64  \n",
            " 30  Functional     1379 non-null   object \n",
            " 31  GarageArea     1379 non-null   float64\n",
            " 32  GarageCars     1379 non-null   int64  \n",
            " 33  GarageCond     1379 non-null   object \n",
            " 34  GarageFinish   1379 non-null   object \n",
            " 35  GarageQual     1379 non-null   object \n",
            " 36  GarageType     1379 non-null   object \n",
            " 37  GarageYrBlt    1379 non-null   float64\n",
            " 38  GrLivArea      1379 non-null   float64\n",
            " 39  HalfBath       1379 non-null   int64  \n",
            " 40  Heating        1379 non-null   object \n",
            " 41  HeatingQC      1379 non-null   object \n",
            " 42  HouseStyle     1379 non-null   object \n",
            " 43  KitchenAbvGr   1379 non-null   int64  \n",
            " 44  KitchenQual    1379 non-null   object \n",
            " 45  LandContour    1379 non-null   object \n",
            " 46  LandSlope      1379 non-null   object \n",
            " 47  LotArea        1379 non-null   float64\n",
            " 48  LotConfig      1379 non-null   object \n",
            " 49  LotFrontage    1379 non-null   float64\n",
            " 50  LotShape       1379 non-null   object \n",
            " 51  LowQualFinSF   1379 non-null   float64\n",
            " 52  MSSubClass     1379 non-null   int64  \n",
            " 53  MSZoning       1379 non-null   object \n",
            " 54  MasVnrArea     1379 non-null   float64\n",
            " 55  MasVnrType     1379 non-null   object \n",
            " 56  MiscFeature    1379 non-null   object \n",
            " 57  MiscVal        1379 non-null   float64\n",
            " 58  MoSold         1379 non-null   int64  \n",
            " 59  Neighborhood   1379 non-null   object \n",
            " 60  OpenPorchSF    1379 non-null   float64\n",
            " 61  OverallCond    1379 non-null   int64  \n",
            " 62  OverallQual    1379 non-null   int64  \n",
            " 63  PavedDrive     1379 non-null   object \n",
            " 64  PoolArea       1379 non-null   float64\n",
            " 65  PoolQC         1379 non-null   object \n",
            " 66  RoofMatl       1379 non-null   object \n",
            " 67  RoofStyle      1379 non-null   object \n",
            " 68  SaleCondition  1379 non-null   object \n",
            " 69  SaleType       1379 non-null   object \n",
            " 70  ScreenPorch    1379 non-null   float64\n",
            " 71  Street         1379 non-null   object \n",
            " 72  TotRmsAbvGrd   1379 non-null   int64  \n",
            " 73  TotalBsmtSF    1379 non-null   float64\n",
            " 74  Utilities      1379 non-null   object \n",
            " 75  WoodDeckSF     1379 non-null   float64\n",
            " 76  YearBuilt      1379 non-null   int64  \n",
            " 77  YearRemodAdd   1379 non-null   int64  \n",
            " 78  YrSold         1379 non-null   int64  \n",
            " 79  SalePrice      1379 non-null   float64\n",
            "dtypes: float64(21), int64(16), object(43)\n",
            "memory usage: 862.0+ KB\n"
          ],
          "name": "stdout"
        }
      ]
    },
    {
      "cell_type": "code",
      "metadata": {
        "colab": {
          "base_uri": "https://localhost:8080/"
        },
        "id": "MDQAa4_K5DtJ",
        "outputId": "d45d8e8b-9404-4cec-8fb4-084cab7059ed"
      },
      "source": [
        "# We need to know the numbers of strings(objects)/int/floats that we have in our dataframe : \r\n",
        "df.dtypes.value_counts()"
      ],
      "execution_count": 6,
      "outputs": [
        {
          "output_type": "execute_result",
          "data": {
            "text/plain": [
              "object     43\n",
              "float64    21\n",
              "int64      16\n",
              "dtype: int64"
            ]
          },
          "metadata": {
            "tags": []
          },
          "execution_count": 6
        }
      ]
    },
    {
      "cell_type": "code",
      "metadata": {
        "colab": {
          "base_uri": "https://localhost:8080/"
        },
        "id": "aQpG_USm-8-g",
        "outputId": "8ecb7809-cc3f-44fa-ace5-508eb3b57cad"
      },
      "source": [
        "# Unordered catigorical should be one-hot-encoded:\r\n",
        "# select the objects(strings) columns : \r\n",
        "mask = df.dtypes == np.object\r\n",
        "mask"
      ],
      "execution_count": 7,
      "outputs": [
        {
          "output_type": "execute_result",
          "data": {
            "text/plain": [
              "1stFlrSF        False\n",
              "2ndFlrSF        False\n",
              "3SsnPorch       False\n",
              "Alley            True\n",
              "BedroomAbvGr    False\n",
              "                ...  \n",
              "WoodDeckSF      False\n",
              "YearBuilt       False\n",
              "YearRemodAdd    False\n",
              "YrSold          False\n",
              "SalePrice       False\n",
              "Length: 80, dtype: bool"
            ]
          },
          "metadata": {
            "tags": []
          },
          "execution_count": 7
        }
      ]
    },
    {
      "cell_type": "code",
      "metadata": {
        "colab": {
          "base_uri": "https://localhost:8080/"
        },
        "id": "qOi-BIJd_eha",
        "outputId": "f582bc96-9147-41db-a23a-2c56b9e3e4fb"
      },
      "source": [
        "# categorical columns : \r\n",
        "categorical_cols = df.columns[mask]\r\n",
        "categorical_cols[:]"
      ],
      "execution_count": 8,
      "outputs": [
        {
          "output_type": "execute_result",
          "data": {
            "text/plain": [
              "Index(['Alley', 'BldgType', 'BsmtCond', 'BsmtExposure', 'BsmtFinType1',\n",
              "       'BsmtFinType2', 'BsmtQual', 'CentralAir', 'Condition1', 'Condition2',\n",
              "       'Electrical', 'ExterCond', 'ExterQual', 'Exterior1st', 'Exterior2nd',\n",
              "       'Fence', 'FireplaceQu', 'Foundation', 'Functional', 'GarageCond',\n",
              "       'GarageFinish', 'GarageQual', 'GarageType', 'Heating', 'HeatingQC',\n",
              "       'HouseStyle', 'KitchenQual', 'LandContour', 'LandSlope', 'LotConfig',\n",
              "       'LotShape', 'MSZoning', 'MasVnrType', 'MiscFeature', 'Neighborhood',\n",
              "       'PavedDrive', 'PoolQC', 'RoofMatl', 'RoofStyle', 'SaleCondition',\n",
              "       'SaleType', 'Street', 'Utilities'],\n",
              "      dtype='object')"
            ]
          },
          "metadata": {
            "tags": []
          },
          "execution_count": 8
        }
      ]
    },
    {
      "cell_type": "code",
      "metadata": {
        "id": "pwnbmPyBDZKM"
      },
      "source": [
        "num_ohc_cols = df[categorical_cols].apply(lambda x: x.nunique()).sort_values(ascending=False)"
      ],
      "execution_count": 9,
      "outputs": []
    },
    {
      "cell_type": "code",
      "metadata": {
        "id": "PvxKeH9YJUxz",
        "colab": {
          "base_uri": "https://localhost:8080/"
        },
        "outputId": "30619984-5eca-422b-f156-7d683bdcdffb"
      },
      "source": [
        "num_ohc_cols"
      ],
      "execution_count": 10,
      "outputs": [
        {
          "output_type": "execute_result",
          "data": {
            "text/plain": [
              "Neighborhood     25\n",
              "Exterior2nd      16\n",
              "Exterior1st      14\n",
              "SaleType          9\n",
              "Condition1        9\n",
              "HouseStyle        8\n",
              "RoofMatl          8\n",
              "Condition2        8\n",
              "Functional        7\n",
              "BsmtFinType2      7\n",
              "FireplaceQu       6\n",
              "Foundation        6\n",
              "RoofStyle         6\n",
              "SaleCondition     6\n",
              "BsmtFinType1      6\n",
              "Heating           6\n",
              "GarageType        6\n",
              "BsmtExposure      5\n",
              "Electrical        5\n",
              "Fence             5\n",
              "GarageCond        5\n",
              "GarageQual        5\n",
              "BsmtQual          5\n",
              "LotConfig         5\n",
              "MSZoning          5\n",
              "MiscFeature       5\n",
              "BldgType          5\n",
              "HeatingQC         5\n",
              "KitchenQual       4\n",
              "LandContour       4\n",
              "BsmtCond          4\n",
              "LotShape          4\n",
              "MasVnrType        4\n",
              "ExterQual         4\n",
              "ExterCond         4\n",
              "PoolQC            4\n",
              "Alley             3\n",
              "GarageFinish      3\n",
              "LandSlope         3\n",
              "PavedDrive        3\n",
              "CentralAir        2\n",
              "Street            2\n",
              "Utilities         2\n",
              "dtype: int64"
            ]
          },
          "metadata": {
            "tags": []
          },
          "execution_count": 10
        }
      ]
    },
    {
      "cell_type": "code",
      "metadata": {
        "id": "bXcuPM3JAioA"
      },
      "source": [
        "# no need to encodeif there is only one value: \r\n",
        "small_num_ohc_col = num_ohc_cols.loc[num_ohc_cols > 1 ]"
      ],
      "execution_count": 11,
      "outputs": []
    },
    {
      "cell_type": "code",
      "metadata": {
        "id": "uYfTQUOKESHz"
      },
      "source": [
        "# Number of one hot columns is one less than the number of categorical columns : \r\n",
        "small_num_ohc_col -= 1"
      ],
      "execution_count": 12,
      "outputs": []
    },
    {
      "cell_type": "code",
      "metadata": {
        "colab": {
          "base_uri": "https://localhost:8080/"
        },
        "id": "sxAolcYEEzWv",
        "outputId": "dcde9db2-835f-4e37-efec-d54dbacd8793"
      },
      "source": [
        "# Check the new extra columns has been created: \r\n",
        "small_num_ohc_col.sum()"
      ],
      "execution_count": 13,
      "outputs": [
        {
          "output_type": "execute_result",
          "data": {
            "text/plain": [
              "215"
            ]
          },
          "metadata": {
            "tags": []
          },
          "execution_count": 13
        }
      ]
    },
    {
      "cell_type": "code",
      "metadata": {
        "id": "fJxjPgE9FIM7"
      },
      "source": [
        "# Create a new dataframe where all the categrical features will be hot encoded ; \r\n",
        "from sklearn.preprocessing import OneHotEncoder"
      ],
      "execution_count": 14,
      "outputs": []
    },
    {
      "cell_type": "code",
      "metadata": {
        "id": "CWeMk_JeIuKo"
      },
      "source": [
        "# Create acopy of the data: \r\n",
        "data_ohc = df.copy()"
      ],
      "execution_count": 15,
      "outputs": []
    },
    {
      "cell_type": "code",
      "metadata": {
        "id": "qduW6c-XIy6N"
      },
      "source": [
        "# Create OneHotEncoder: \r\n",
        "ohc = OneHotEncoder()"
      ],
      "execution_count": 16,
      "outputs": []
    },
    {
      "cell_type": "code",
      "metadata": {
        "id": "-qMhro92JpCq"
      },
      "source": [
        "for col in num_ohc_cols.index:\r\n",
        "\r\n",
        "  # onehotencode the data--this returns a spare array\r\n",
        "  new_dat = ohc.fit_transform(data_ohc[[col]])\r\n",
        "  # drop the original column from the dataframe:\r\n",
        "  data_ohc = data_ohc.drop(col, axis=1)\r\n",
        "  # Get the names of all unique values in the column:\r\n",
        "  cats = ohc.categories_\r\n",
        "  # create column names for each OHC column by value: \r\n",
        "  new_cols = ['_'.join([col, cat]) for cat in cats[0]]\r\n",
        "  #create a new datafream:\r\n",
        "  new_df = pd.DataFrame(new_dat.toarray(), columns=new_cols)\r\n",
        "  # Append the new_data to the DataFream: \r\n",
        "  data_ohc = pd.concat([data_ohc, new_df], axis=1)"
      ],
      "execution_count": 17,
      "outputs": []
    },
    {
      "cell_type": "code",
      "metadata": {
        "id": "aGCasoE2L0bK",
        "colab": {
          "base_uri": "https://localhost:8080/"
        },
        "outputId": "87b4638d-7ee9-4941-b6c0-8915f5c3674f"
      },
      "source": [
        "# Columns diffrences is as calculated above : \r\n",
        "data_ohc.shape[1] - df.shape[1]"
      ],
      "execution_count": 18,
      "outputs": [
        {
          "output_type": "execute_result",
          "data": {
            "text/plain": [
              "215"
            ]
          },
          "metadata": {
            "tags": []
          },
          "execution_count": 18
        }
      ]
    },
    {
      "cell_type": "code",
      "metadata": {
        "id": "9DnNifjlMBg6",
        "colab": {
          "base_uri": "https://localhost:8080/"
        },
        "outputId": "179b79f7-600e-454b-d5f8-d30af5e11462"
      },
      "source": [
        "print(df.shape[1])\r\n",
        "# Remove the sting columns from the datafream: \r\n",
        "df = df.drop(num_ohc_cols.index, axis=1)\r\n",
        "print(df.shape[1])"
      ],
      "execution_count": 19,
      "outputs": [
        {
          "output_type": "stream",
          "text": [
            "80\n",
            "37\n"
          ],
          "name": "stdout"
        }
      ]
    },
    {
      "cell_type": "code",
      "metadata": {
        "id": "O2THEZ_lWhdD"
      },
      "source": [
        "y_cols = 'SalePrice'\r\n",
        "# Split the data that is not one_hot_encoded: \r\n",
        "features_cols = [x for x in df.columns if x != y_cols]\r\n",
        "x_data = df[features_cols]\r\n",
        "y_data = df[y_cols]\r\n",
        "x_train, x_test, y_train, y_test = train_test_split(x_data, y_data, test_size=0.3, random_state=42)\r\n",
        "# Split the data that is one_hot_encoded: \r\n",
        "features_cols = [x for x in data_ohc.columns if x != y_cols]\r\n",
        "x_data_ohc = data_ohc[features_cols]\r\n",
        "y_data_ohc = data_ohc[y_cols]\r\n",
        "x_train_ohc, x_test_ohc, y_train_ohc, y_test_ohc = train_test_split(x_data_ohc, y_data_ohc, test_size=0.3, random_state=42)"
      ],
      "execution_count": 20,
      "outputs": []
    },
    {
      "cell_type": "code",
      "metadata": {
        "id": "pMTuw6laZwTt",
        "colab": {
          "base_uri": "https://localhost:8080/"
        },
        "outputId": "a5cf4d3b-f87d-46fd-b5aa-f2b98ef65011"
      },
      "source": [
        "# compare the indices to ensure they are they identical : \r\n",
        "(x_train.index == x_train_ohc.index).all()\r\n"
      ],
      "execution_count": 21,
      "outputs": [
        {
          "output_type": "execute_result",
          "data": {
            "text/plain": [
              "True"
            ]
          },
          "metadata": {
            "tags": []
          },
          "execution_count": 21
        }
      ]
    },
    {
      "cell_type": "code",
      "metadata": {
        "id": "9WSsVXsUcx1S"
      },
      "source": [
        "from sklearn.linear_model import LinearRegression\r\n",
        "from sklearn.metrics import  mean_squared_error\r\n"
      ],
      "execution_count": 22,
      "outputs": []
    },
    {
      "cell_type": "code",
      "metadata": {
        "id": "hu5wslArpMlZ",
        "colab": {
          "base_uri": "https://localhost:8080/"
        },
        "outputId": "ceb4c3c5-dddb-4305-c1f7-e93b43530008"
      },
      "source": [
        "# Create the model: \r\n",
        "lr = LinearRegression()\r\n",
        "lr"
      ],
      "execution_count": 23,
      "outputs": [
        {
          "output_type": "execute_result",
          "data": {
            "text/plain": [
              "LinearRegression(copy_X=True, fit_intercept=True, n_jobs=None, normalize=False)"
            ]
          },
          "metadata": {
            "tags": []
          },
          "execution_count": 23
        }
      ]
    },
    {
      "cell_type": "code",
      "metadata": {
        "id": "cE6xMlteqKzf"
      },
      "source": [
        "# Storage the error values : \r\n",
        "error_df = list()\r\n"
      ],
      "execution_count": 24,
      "outputs": []
    },
    {
      "cell_type": "code",
      "metadata": {
        "id": "-y9Fwxc1pVIk",
        "colab": {
          "base_uri": "https://localhost:8080/",
          "height": 106
        },
        "outputId": "9c4e193b-0851-4b07-ec00-a50ee6e71e6f"
      },
      "source": [
        "\r\n",
        "# Data that have not been oneHotEncoded: \r\n",
        "lr = lr.fit(x_train, y_train)\r\n",
        "y_train_pred = lr.predict(x_train)\r\n",
        "y_test_pred = lr.predict(x_test)\r\n",
        "error_df.append(pd.Series({'train': mean_squared_error(y_train, y_train_pred),\r\n",
        "                           'test':mean_squared_error(y_test, y_test_pred)},\r\n",
        "                          name='No- Hot_endcoded'))\r\n",
        "# Data that have been oneHotEncoded: \r\n",
        "lr = lr.fit(x_train_ohc, y_train_ohc)\r\n",
        "y_train_ohc_pred = lr.predict(x_train_ohc)\r\n",
        "y_test_ohc_pred = lr.predict(x_test_ohc)\r\n",
        "error_df.append(pd.Series({'train': mean_squared_error(y_train_ohc, y_train_ohc_pred),\r\n",
        "                           'test':mean_squared_error(y_test_ohc, y_test_ohc_pred)},\r\n",
        "                          name='Hot_endcoded'))\r\n",
        "# Assemble the results : \r\n",
        "error_df = pd.concat(error_df, axis=1)\r\n",
        "error_df"
      ],
      "execution_count": 25,
      "outputs": [
        {
          "output_type": "execute_result",
          "data": {
            "text/html": [
              "<div>\n",
              "<style scoped>\n",
              "    .dataframe tbody tr th:only-of-type {\n",
              "        vertical-align: middle;\n",
              "    }\n",
              "\n",
              "    .dataframe tbody tr th {\n",
              "        vertical-align: top;\n",
              "    }\n",
              "\n",
              "    .dataframe thead th {\n",
              "        text-align: right;\n",
              "    }\n",
              "</style>\n",
              "<table border=\"1\" class=\"dataframe\">\n",
              "  <thead>\n",
              "    <tr style=\"text-align: right;\">\n",
              "      <th></th>\n",
              "      <th>No- Hot_endcoded</th>\n",
              "      <th>Hot_endcoded</th>\n",
              "    </tr>\n",
              "  </thead>\n",
              "  <tbody>\n",
              "    <tr>\n",
              "      <th>train</th>\n",
              "      <td>1.131507e+09</td>\n",
              "      <td>3.177262e+08</td>\n",
              "    </tr>\n",
              "    <tr>\n",
              "      <th>test</th>\n",
              "      <td>1.372182e+09</td>\n",
              "      <td>2.089927e+17</td>\n",
              "    </tr>\n",
              "  </tbody>\n",
              "</table>\n",
              "</div>"
            ],
            "text/plain": [
              "       No- Hot_endcoded  Hot_endcoded\n",
              "train      1.131507e+09  3.177262e+08\n",
              "test       1.372182e+09  2.089927e+17"
            ]
          },
          "metadata": {
            "tags": []
          },
          "execution_count": 25
        }
      ]
    },
    {
      "cell_type": "markdown",
      "metadata": {
        "id": "zvMZpYsUtRs_"
      },
      "source": [
        "#**Scale the values and compare the error calculated on the testset:**"
      ]
    },
    {
      "cell_type": "code",
      "metadata": {
        "id": "XAAE7J63r7uK"
      },
      "source": [
        "# Mute the setting with the copy warings : \r\n",
        "pd.options.mode.chained_assignment = None"
      ],
      "execution_count": 26,
      "outputs": []
    },
    {
      "cell_type": "code",
      "metadata": {
        "id": "yaiq4KkYtwXH"
      },
      "source": [
        "from sklearn.preprocessing import StandardScaler, MinMaxScaler"
      ],
      "execution_count": 27,
      "outputs": []
    },
    {
      "cell_type": "code",
      "metadata": {
        "id": "VbVktPzrt8ST"
      },
      "source": [
        "scalers = {'Standard': StandardScaler(),\r\n",
        "           'Minimax': MinMaxScaler()}\r\n",
        "           "
      ],
      "execution_count": 28,
      "outputs": []
    },
    {
      "cell_type": "code",
      "metadata": {
        "id": "FISwK16HuLyG",
        "colab": {
          "base_uri": "https://localhost:8080/"
        },
        "outputId": "673edee6-2c0a-4820-9146-8b2eeb154208"
      },
      "source": [
        "# Initilize the model : \r\n",
        "lr = LinearRegression()\r\n",
        "lr"
      ],
      "execution_count": 29,
      "outputs": [
        {
          "output_type": "execute_result",
          "data": {
            "text/plain": [
              "LinearRegression(copy_X=True, fit_intercept=True, n_jobs=None, normalize=False)"
            ]
          },
          "metadata": {
            "tags": []
          },
          "execution_count": 29
        }
      ]
    },
    {
      "cell_type": "code",
      "metadata": {
        "id": "kdSdhoO0uZv1",
        "colab": {
          "base_uri": "https://localhost:8080/"
        },
        "outputId": "8d0e6413-ff5d-4c01-a567-3fbabd7c5d94"
      },
      "source": [
        "# Iterate over all possiable compaintions and get errors : \r\n",
        "errors = {}\r\n",
        "for scaler_label, scaler in scalers.items():\r\n",
        "  training_set = scaler.fit_transform(x_train)\r\n",
        "  test_set = scaler.fit_transform(x_test)\r\n",
        "  lr.fit(training_set, y_train)\r\n",
        "  predictions = lr.predict(test_set)\r\n",
        "  key = scaler_label + 'Scaling'\r\n",
        "  errors[key] = mean_squared_error(y_test, predictions)\r\n",
        "errors = pd.Series(errors)\r\n",
        "for key, error_val in errors.items():\r\n",
        "  print(key, error_val)"
      ],
      "execution_count": 30,
      "outputs": [
        {
          "output_type": "stream",
          "text": [
            "StandardScaling 1359298570.4070227\n",
            "MinimaxScaling 3696093684.070986\n"
          ],
          "name": "stdout"
        }
      ]
    },
    {
      "cell_type": "markdown",
      "metadata": {
        "id": "H12pmAi6w7X2"
      },
      "source": [
        "#**Plot predictions vs actual for one the mode:**"
      ]
    },
    {
      "cell_type": "code",
      "metadata": {
        "id": "GXKXoU_jwXRp",
        "colab": {
          "base_uri": "https://localhost:8080/",
          "height": 294
        },
        "outputId": "2cd3082f-bb1b-4719-87e4-b0f61d388711"
      },
      "source": [
        "sns.set_context('talk')\r\n",
        "sns.set_style('ticks')\r\n",
        "sns.set_palette('dark')\r\n",
        "ax = plt.axes()\r\n",
        "ax.scatter(y_test, y_test_pred, alpha=0.5)"
      ],
      "execution_count": 31,
      "outputs": [
        {
          "output_type": "execute_result",
          "data": {
            "text/plain": [
              "<matplotlib.collections.PathCollection at 0x7fc4e46f4160>"
            ]
          },
          "metadata": {
            "tags": []
          },
          "execution_count": 31
        },
        {
          "output_type": "display_data",
          "data": {
            "image/png": "[encoded data removed]",
            "text/plain": [
              "<Figure size 432x288 with 1 Axes>"
            ]
          },
          "metadata": {
            "tags": [],
            "image/png": {
              "width": 450,
              "height": 260
            }
          }
        }
      ]
    },
    {
      "cell_type": "markdown",
      "metadata": {
        "id": "9NTMoFlYlYQe"
      },
      "source": [
        "#**Cross Validation:**"
      ]
    },
    {
      "cell_type": "markdown",
      "metadata": {
        "id": "ENQP_Qowth0P"
      },
      "source": [
        "1/ Chain Mulitiple data processing steps together using Pepline function which allows us to speed up the workflow.\r\n",
        "\r\n",
        "2/ Using kfolds object to split up the data into multiples folds.\r\n",
        "\r\n",
        "3/ perform cross-validation using sklearn cross_val_predict & GridSearchCV.\r\n",
        "\r\n"
      ]
    },
    {
      "cell_type": "code",
      "metadata": {
        "id": "YM0GbLdjxk6P"
      },
      "source": [
        "from sklearn.model_selection import KFold, cross_val_predict\r\n",
        "from sklearn.linear_model import LinearRegression, Lasso, Ridge\r\n",
        "from sklearn.pipeline import Pipeline"
      ],
      "execution_count": 32,
      "outputs": []
    },
    {
      "cell_type": "code",
      "metadata": {
        "id": "KUTrFTeLvSof"
      },
      "source": [
        "# Kfolds tells us the cross valiadatio how to split up the data: \r\n",
        "kf = KFold(shuffle=True, random_state=72018, n_splits=3)"
      ],
      "execution_count": 39,
      "outputs": []
    },
    {
      "cell_type": "code",
      "metadata": {
        "colab": {
          "base_uri": "https://localhost:8080/"
        },
        "id": "7G0GBZaiwL7M",
        "outputId": "7f057836-4319-4043-ce88-f8f4f2d86da4"
      },
      "source": [
        "for train_index, test_index in kf.split(x_data):\r\n",
        "  print('Train inex:', train_index[:10], len(train_index))\r\n",
        "  print('test inex:', test_index[:10], len(test_index))\r\n",
        "  print('')"
      ],
      "execution_count": 40,
      "outputs": [
        {
          "output_type": "stream",
          "text": [
            "Train inex: [ 0  2  4  5  6  7  8 10 11 12] 919\n",
            "test inex: [ 1  3  9 16 17 24 26 27 30 33] 460\n",
            "\n",
            "Train inex: [ 1  3  8  9 10 11 13 14 16 17] 919\n",
            "test inex: [ 0  2  4  5  6  7 12 15 20 23] 460\n",
            "\n",
            "Train inex: [ 0  1  2  3  4  5  6  7  9 12] 920\n",
            "test inex: [ 8 10 11 13 14 18 19 21 22 28] 459\n",
            "\n"
          ],
          "name": "stdout"
        }
      ]
    },
    {
      "cell_type": "code",
      "metadata": {
        "colab": {
          "base_uri": "https://localhost:8080/"
        },
        "id": "C7Qmo97_xPtO",
        "outputId": "5b5a42cb-9646-4e7a-b06c-3b73788c34af"
      },
      "source": [
        "scores = []\r\n",
        "lr = LinearRegression()\r\n",
        "for train_index, test_index in kf.split(x_data):\r\n",
        "  x_train, x_test, y_train, y_test = (x_data.iloc[train_index, :],\r\n",
        "                                      x_data.iloc[test_index,:],\r\n",
        "                                      y_data[train_index],\r\n",
        "                                      y_data[test_index])\r\n",
        "  lr.fit(x_train, y_train)\r\n",
        "  y_pred = lr.predict(x_test)\r\n",
        "  score = r2_score(y_test, y_pred)\r\n",
        "  scores.append(score)\r\n",
        "\r\n",
        "scores  "
      ],
      "execution_count": 42,
      "outputs": [
        {
          "output_type": "execute_result",
          "data": {
            "text/plain": [
              "[0.8276298196712377, 0.7332863782908077, 0.7935196178609187]"
            ]
          },
          "metadata": {
            "tags": []
          },
          "execution_count": 42
        }
      ]
    },
    {
      "cell_type": "code",
      "metadata": {
        "colab": {
          "base_uri": "https://localhost:8080/"
        },
        "id": "qGh9F7oF0h23",
        "outputId": "fdbb1bdf-6234-430f-feba-8af38b6251e6"
      },
      "source": [
        "scores = []\r\n",
        "lr = LinearRegression()\r\n",
        "s = StandardScaler()\r\n",
        "for train_index, test_index in kf.split(x_data):\r\n",
        "  x_train, x_test, y_train, y_test = (x_data.iloc[train_index, :],\r\n",
        "                                      x_data.iloc[test_index,:],\r\n",
        "                                      y_data[train_index],\r\n",
        "                                      y_data[test_index])\r\n",
        "  x_train_s = s.fit_transform(x_train)\r\n",
        "  lr.fit(x_train_s, y_train)\r\n",
        "  x_test_s = s.fit_transform(x_test)\r\n",
        "  y_pred = lr.predict(x_test_s)\r\n",
        "  score = r2_score(y_test, y_pred)\r\n",
        "  scores.append(score)\r\n",
        "\r\n",
        "scores  \r\n",
        "\r\n"
      ],
      "execution_count": 43,
      "outputs": [
        {
          "output_type": "execute_result",
          "data": {
            "text/plain": [
              "[0.8239446060147971, 0.7319958587601824, 0.7922706647692423]"
            ]
          },
          "metadata": {
            "tags": []
          },
          "execution_count": 43
        }
      ]
    },
    {
      "cell_type": "markdown",
      "metadata": {
        "id": "HEEY95vs8-fR"
      },
      "source": [
        "#**Compaine Mutiple processing steps into Pipeline:**"
      ]
    },
    {
      "cell_type": "code",
      "metadata": {
        "id": "xlRiIcg387M3"
      },
      "source": [
        "estimator = Pipeline([('Scaler', s),('Regression', lr)])"
      ],
      "execution_count": 44,
      "outputs": []
    },
    {
      "cell_type": "code",
      "metadata": {
        "colab": {
          "base_uri": "https://localhost:8080/"
        },
        "id": "A7NSOxoA9b1Y",
        "outputId": "df85095e-93d8-41d9-8287-1a8acc2487e0"
      },
      "source": [
        "estimator.fit(x_train, y_train)"
      ],
      "execution_count": 45,
      "outputs": [
        {
          "output_type": "execute_result",
          "data": {
            "text/plain": [
              "Pipeline(memory=None,\n",
              "         steps=[('Scaler',\n",
              "                 StandardScaler(copy=True, with_mean=True, with_std=True)),\n",
              "                ('Regression',\n",
              "                 LinearRegression(copy_X=True, fit_intercept=True, n_jobs=None,\n",
              "                                  normalize=False))],\n",
              "         verbose=False)"
            ]
          },
          "metadata": {
            "tags": []
          },
          "execution_count": 45
        }
      ]
    },
    {
      "cell_type": "code",
      "metadata": {
        "colab": {
          "base_uri": "https://localhost:8080/"
        },
        "id": "L0m6DdA39hT6",
        "outputId": "5ed56dfc-8b5a-40d1-fc91-6cf7e0a69bdd"
      },
      "source": [
        "estimator.predict(x_test)"
      ],
      "execution_count": 46,
      "outputs": [
        {
          "output_type": "execute_result",
          "data": {
            "text/plain": [
              "array([192310.14885847, 114401.96818948, 338440.43564187, 236125.62686804,\n",
              "       150669.58960818, 147779.43444846, 125006.10942795, 137127.83907903,\n",
              "       259328.34367485, 194649.21970317,  56180.15481511, 270187.18230425,\n",
              "       290600.1768345 , 130050.78067948, 174582.79505469, 370457.43639606,\n",
              "       118562.66059039, 203045.263136  , 169825.83993273, 183436.49368914,\n",
              "       231021.82897731, 120773.80721114, 220593.96711251, 131308.59453081,\n",
              "       207625.5824192 , 176618.38674507, 139609.38207841, 134756.65874289,\n",
              "       182908.96515277, 198308.86385077, 192468.63471588, 112150.74242793,\n",
              "       197893.63153772, 217674.01781954, 164153.46717689, 319974.88784911,\n",
              "       142707.98233944, 150192.32728425, 123705.88037713, 130693.48218345,\n",
              "       219654.91561574, 224696.1739271 , 179483.55801786, 108631.93750686,\n",
              "       290378.18117831, 374312.87795626, 221013.69371924, 205593.53155362,\n",
              "       305684.03073143, 178242.28289094, 228348.79782335, 117695.42511099,\n",
              "       166109.88078192, 130885.47064951, 237794.58155503, 382750.90126267,\n",
              "       187520.55648433, 129878.40747956, 140914.29760274, 198236.19523344,\n",
              "       101749.8157824 , 261063.91107032, 181967.99617022, 139149.31850733,\n",
              "       246896.5289291 , 167329.07478236, 150195.84967709, 141387.5281732 ,\n",
              "       235406.74118451, 217757.2830857 , 182517.56716504,  94126.42235604,\n",
              "       283379.07139172, 206977.34479351, 318591.90598051, 107439.88467462,\n",
              "       212988.89186338, 108180.39394331, 203935.74642941, 267269.78927856,\n",
              "       245405.10411445, 165370.20240637, 214123.27698589, 167864.64022833,\n",
              "       170660.48501366,  95721.3593418 , 198006.22154196,  76991.89700442,\n",
              "       159496.82335101, 226841.8267457 , 200062.8058622 , 190907.96607268,\n",
              "       141121.83133523, 207099.11401505, 143440.68747538, 334175.24997843,\n",
              "       261431.35805757,  90020.18658391, 320860.9202459 , 174987.9289686 ,\n",
              "       117096.10617004, 348208.34020309, 277768.95834758, 146373.98062179,\n",
              "        87884.57311799, 288742.00053499, 231282.60091364,  73946.73332251,\n",
              "        51892.79183118,  67128.44206485, 120933.43878052, 138508.80760902,\n",
              "       293195.7554273 , 160710.68658282, 134430.25445673, 137221.64883621,\n",
              "       111496.39709611, 108057.74198137, 135087.38193245, 213153.8030071 ,\n",
              "       103128.08028675, 224904.22222445, 354028.03596858, 110569.16976682,\n",
              "       102286.37140515,  86824.79484534, 132732.21734771, 281044.42382443,\n",
              "       235085.11634048, 117939.65579186, 265298.48432815, 199321.85977659,\n",
              "       126183.57591033, 243707.5784027 , 154903.62285728, 216744.4094807 ,\n",
              "       103554.40380078, 154708.4522068 , 173096.53023854, 220642.09714448,\n",
              "       223971.05050658, 200110.72099629, 141273.49116135, 169085.99616527,\n",
              "       187826.0862394 , 106792.29693517,  97315.25768583, 151259.37317089,\n",
              "       204563.34526862, 147322.14092348, 189723.1196667 , 145355.01404828,\n",
              "       360661.18645207, 175960.57111573, 183941.87678219, 149724.52399437,\n",
              "        73644.80236235, 117348.85922822, 360411.352298  , 185220.58617916,\n",
              "       116124.15017785, 205862.44978891, 144425.90282313, 344468.50133109,\n",
              "       293253.6627115 , 203359.54196271, 548978.64400503, 190871.4701976 ,\n",
              "       239734.45985931, 193745.99310628, 152005.67736598, 265846.62893328,\n",
              "       160476.42854855, 122691.43532616, 100248.60649726, 276847.10763718,\n",
              "       209762.89884265, 252919.28024863, 211845.04049861, 186356.22316229,\n",
              "       170527.04384922, 150817.81976855, 276728.24654869, 310078.77315797,\n",
              "       209720.77058736, 196938.60201806, 144492.62656   , 153719.80779975,\n",
              "       229115.683569  , 233505.29476175, 151544.25560963, 203102.33127232,\n",
              "       254387.99409024, 123760.29103899, 244224.37564007, 163837.82991319,\n",
              "       230579.38878352, 135482.7269301 , 170016.86228838, 153046.5666222 ,\n",
              "       175938.42708145, 149755.59957464, 229418.93157555, 360097.82927095,\n",
              "       174470.36909015, 113170.76145394, 326650.16572173,  84376.59819525,\n",
              "       168838.74242078, 205334.1507527 , 224046.80164376, 143637.03922469,\n",
              "       260422.94547963, 183755.98231225, 156330.2090906 , 295259.45724321,\n",
              "       101298.11490545, 135437.09023814, 188119.77803035, 233839.2181422 ,\n",
              "       196427.6944114 , 103015.33079318, 211134.00850614, 170168.39215445,\n",
              "       227725.44309335, 309281.49425192, 312423.72544817,  47848.16709325,\n",
              "       247423.42141322, 208340.55269518, 151422.98044418, 233452.77980181,\n",
              "       263082.7379145 , 204728.14795521, 275590.60289754, 176265.00243968,\n",
              "       185427.56756791, 312845.60134314, 120911.06970463, 196312.2362217 ,\n",
              "       176708.74884692, 124281.53924091, 143958.29684258, 131823.67215175,\n",
              "       149874.25704758, 200403.63312561, 229277.23772938,  92430.52209414,\n",
              "       176276.08316091, 142957.91366399, 181816.43368915, 195315.99733514,\n",
              "       206547.18383632, 351761.78388263, 206580.82293821,  95629.19938267,\n",
              "       147137.81920901, 159356.39479382, 114433.03391947, 114850.29170623,\n",
              "       108158.62697026, 161226.50469257, 223101.85698689, 373361.96963293,\n",
              "       156940.94965839, 192231.69387344, 111586.33489263, 141539.24127288,\n",
              "       163732.15286184, 187750.89509001, 158860.37108234,  86505.77616391,\n",
              "       110582.33983204, 242600.38765735,  99909.58522711, 185285.43873951,\n",
              "       318455.04687208, 182585.07912866, 143962.49498194, 108616.59155618,\n",
              "       148779.04772136, 376810.95982966, 129885.69696773, 147198.85195353,\n",
              "       195429.94405122, 249413.90381729, 173346.60363144, 160568.89493313,\n",
              "        22888.18149238,  97119.2716869 , 183400.48327993, 145161.8867404 ,\n",
              "       291289.37800156, 234722.61751983, 243161.61391518, 297274.91222824,\n",
              "       217174.79098044,  85687.70874133, 217204.57756501, 196189.07961372,\n",
              "       162366.66581294, 117835.96118591, 218938.93052252, 175125.84318339,\n",
              "       142179.4180531 , 118363.53429016, 175752.41510385, 273302.39424907,\n",
              "       123313.23662143, 200166.93084521, 224995.1869157 ,  85674.85719849,\n",
              "       137580.01490409, 340145.32444494, 205206.10846457,  88324.3174852 ,\n",
              "       195532.32952441, 216919.89822741, 113597.02742003,  57537.70401989,\n",
              "       253568.3022047 , 241460.37771828, 147705.87083607, 235222.62563189,\n",
              "       226882.99860084, 218204.63917165, 148015.99226219, 164529.67648391,\n",
              "       287639.50479759, 134105.43863194, 248454.50895975, 106450.46873527,\n",
              "       301615.10756274,  50770.3806495 , 261527.36993861, 193271.46174517,\n",
              "       192659.52799719, 218912.44196262,  67841.19107108, 116331.64323551,\n",
              "       262637.74468456, 227357.47895684, 120182.6555812 , 183792.3104453 ,\n",
              "       175782.24292104, 159422.86021803, 259300.50181453, 197732.63184356,\n",
              "       212453.01942839,  43479.90659752, 176212.14223204, 127507.22381429,\n",
              "       173465.07106523, 158894.77207178, 116645.2932789 , 313293.2757113 ,\n",
              "       196461.88704744, 223984.10370143, 229060.11014481, 116168.11314884,\n",
              "       146208.55465001,  68188.50566083, 104139.24415501, 220539.42986574,\n",
              "       154732.51967498, 135433.771615  , 182796.63023762, 111235.16555123,\n",
              "       113096.49580457, 134300.53140247, 138064.44976265, 197524.29572253,\n",
              "       114620.44229469, 195108.53457098, 212770.13829117, 145998.72615994,\n",
              "       105758.8427722 , 129258.05071305, 131304.55112411, 135684.66157776,\n",
              "       110543.1778918 , 106663.76831791, 156842.29521667, 215429.39571549,\n",
              "       142510.13674184, 167002.36314596, 205281.85842692, 137836.81784906,\n",
              "       104041.96271176, 156504.18729917, 116948.10312796, 245686.59700824,\n",
              "       344230.65604374, 193717.9958166 , 308096.17788123, 180837.22129325,\n",
              "       183653.83914063, 367258.53012151, 180719.87035285, 128369.09769119,\n",
              "       158182.64580734, 255169.42189238, 225987.82564651, 127301.53509549,\n",
              "       180450.26566937, 131830.55865874, 156990.19912308, 148508.90602527,\n",
              "       136622.39901069, 242194.81912943, 317320.22876308, 242193.99999591,\n",
              "       252849.46134594, 308833.7702667 ,  76411.70148197, 128218.02029019,\n",
              "       266492.28237921, 111979.83707065, 193427.45561129, 146042.1034463 ,\n",
              "       227134.4750692 , 181400.56165169, 205728.3760924 ,  95733.05527133,\n",
              "       162759.38084717, 153245.476604  , 224636.41688367, 113408.71817657,\n",
              "       259572.69883832,  98517.65128954, 281142.79901516, 317594.78081506,\n",
              "       238603.41996201, 159969.90013679, 154272.22639083, 153901.48749415,\n",
              "       206761.06806499, 267704.21561292,  81128.26070597, 263631.25414323,\n",
              "       124137.80510839, 251382.48623617, 106561.50420655, 313439.83150368,\n",
              "       158845.62848345, 197329.42023982, 164686.44126112, 260493.79849576,\n",
              "       195040.68761289, 209273.22277992, 313853.18999025, 171680.99948226,\n",
              "       232074.96427529, 105306.81987729, 146201.30440149,  97529.41310571,\n",
              "       251661.93340861, 182685.47131464, 228866.32288851])"
            ]
          },
          "metadata": {
            "tags": []
          },
          "execution_count": 46
        }
      ]
    },
    {
      "cell_type": "markdown",
      "metadata": {
        "id": "0yve0UiQ99m_"
      },
      "source": [
        "#**Cross_val_predict:**"
      ]
    },
    {
      "cell_type": "code",
      "metadata": {
        "colab": {
          "base_uri": "https://localhost:8080/"
        },
        "id": "vM2pOF479rC4",
        "outputId": "5f3c25c9-121c-41c6-d487-b09f6f3d366e"
      },
      "source": [
        "kf"
      ],
      "execution_count": 48,
      "outputs": [
        {
          "output_type": "execute_result",
          "data": {
            "text/plain": [
              "KFold(n_splits=3, random_state=72018, shuffle=True)"
            ]
          },
          "metadata": {
            "tags": []
          },
          "execution_count": 48
        }
      ]
    },
    {
      "cell_type": "code",
      "metadata": {
        "id": "rzye4_5f-FNE"
      },
      "source": [
        "predictions = cross_val_predict(estimator, x_data, y_data)"
      ],
      "execution_count": 49,
      "outputs": []
    },
    {
      "cell_type": "code",
      "metadata": {
        "colab": {
          "base_uri": "https://localhost:8080/"
        },
        "id": "wZaPfYCI-Q2i",
        "outputId": "b26da9f6-b9ee-4759-933c-3835c44528d9"
      },
      "source": [
        "predictions"
      ],
      "execution_count": 50,
      "outputs": [
        {
          "output_type": "execute_result",
          "data": {
            "text/plain": [
              "array([228879.64550479, 199085.37565021, 221226.54585815, ...,\n",
              "       234200.1170094 , 127980.76059799, 148582.86649351])"
            ]
          },
          "metadata": {
            "tags": []
          },
          "execution_count": 50
        }
      ]
    },
    {
      "cell_type": "code",
      "metadata": {
        "colab": {
          "base_uri": "https://localhost:8080/"
        },
        "id": "H26z4bjL-Scl",
        "outputId": "39e3bdb7-356e-4b21-e654-e784b6db997d"
      },
      "source": [
        "r2_score(y_data, predictions)"
      ],
      "execution_count": 51,
      "outputs": [
        {
          "output_type": "execute_result",
          "data": {
            "text/plain": [
              "0.7831011764935755"
            ]
          },
          "metadata": {
            "tags": []
          },
          "execution_count": 51
        }
      ]
    },
    {
      "cell_type": "code",
      "metadata": {
        "colab": {
          "base_uri": "https://localhost:8080/"
        },
        "id": "pntExPRz-a68",
        "outputId": "a583caaa-2c85-4113-9860-66db690c07a2"
      },
      "source": [
        "np.mean(scores)"
      ],
      "execution_count": 53,
      "outputs": [
        {
          "output_type": "execute_result",
          "data": {
            "text/plain": [
              "0.7827370431814072"
            ]
          },
          "metadata": {
            "tags": []
          },
          "execution_count": 53
        }
      ]
    },
    {
      "cell_type": "markdown",
      "metadata": {
        "id": "QNkvVUu5RxNg"
      },
      "source": [
        "#**Hyperparmeter Tuning:**"
      ]
    },
    {
      "cell_type": "code",
      "metadata": {
        "colab": {
          "base_uri": "https://localhost:8080/"
        },
        "id": "MYPJF3Si-f4-",
        "outputId": "90f09145-d929-4379-827e-a820a87a8838"
      },
      "source": [
        "alphas = np.geomspace(1e-9, 1e0, num=10)\r\n",
        "alphas"
      ],
      "execution_count": 54,
      "outputs": [
        {
          "output_type": "execute_result",
          "data": {
            "text/plain": [
              "array([1.e-09, 1.e-08, 1.e-07, 1.e-06, 1.e-05, 1.e-04, 1.e-03, 1.e-02,\n",
              "       1.e-01, 1.e+00])"
            ]
          },
          "metadata": {
            "tags": []
          },
          "execution_count": 54
        }
      ]
    },
    {
      "cell_type": "code",
      "metadata": {
        "id": "q2TfxiyhSHZ4"
      },
      "source": [
        "scores = []\r\n",
        "coefs = []"
      ],
      "execution_count": 55,
      "outputs": []
    },
    {
      "cell_type": "code",
      "metadata": {
        "colab": {
          "base_uri": "https://localhost:8080/"
        },
        "id": "T6qLxlafSPxa",
        "outputId": "434532a9-e98f-41b5-c0c1-e4a2e90db3ea"
      },
      "source": [
        "for alpha in alphas:\r\n",
        "  las = Lasso(alpha=alpha, max_iter=10000)\r\n",
        "  estimator = Pipeline([('Scaler', s), ('lasso_regrssion', las)])\r\n",
        "  predictions = cross_val_predict(estimator, x_data, y_data, cv=kf)\r\n",
        "  score = r2_score(y_data, predictions)\r\n",
        "  scores.append(score)"
      ],
      "execution_count": 60,
      "outputs": [
        {
          "output_type": "stream",
          "text": [
            "/usr/local/lib/python3.6/dist-packages/sklearn/linear_model/_coordinate_descent.py:476: ConvergenceWarning: Objective did not converge. You might want to increase the number of iterations. Duality gap: 215330281793.33148, tolerance: 589798902.7702838\n",
            "  positive)\n",
            "/usr/local/lib/python3.6/dist-packages/sklearn/linear_model/_coordinate_descent.py:476: ConvergenceWarning: Objective did not converge. You might want to increase the number of iterations. Duality gap: 208129198109.36407, tolerance: 557472645.588279\n",
            "  positive)\n",
            "/usr/local/lib/python3.6/dist-packages/sklearn/linear_model/_coordinate_descent.py:476: ConvergenceWarning: Objective did not converge. You might want to increase the number of iterations. Duality gap: 245022957416.86578, tolerance: 573580033.6402674\n",
            "  positive)\n",
            "/usr/local/lib/python3.6/dist-packages/sklearn/linear_model/_coordinate_descent.py:476: ConvergenceWarning: Objective did not converge. You might want to increase the number of iterations. Duality gap: 214937423285.76587, tolerance: 589798902.7702838\n",
            "  positive)\n",
            "/usr/local/lib/python3.6/dist-packages/sklearn/linear_model/_coordinate_descent.py:476: ConvergenceWarning: Objective did not converge. You might want to increase the number of iterations. Duality gap: 208241345450.75226, tolerance: 557472645.588279\n",
            "  positive)\n",
            "/usr/local/lib/python3.6/dist-packages/sklearn/linear_model/_coordinate_descent.py:476: ConvergenceWarning: Objective did not converge. You might want to increase the number of iterations. Duality gap: 244890065249.49744, tolerance: 573580033.6402674\n",
            "  positive)\n",
            "/usr/local/lib/python3.6/dist-packages/sklearn/linear_model/_coordinate_descent.py:476: ConvergenceWarning: Objective did not converge. You might want to increase the number of iterations. Duality gap: 214915099909.86493, tolerance: 589798902.7702838\n",
            "  positive)\n",
            "/usr/local/lib/python3.6/dist-packages/sklearn/linear_model/_coordinate_descent.py:476: ConvergenceWarning: Objective did not converge. You might want to increase the number of iterations. Duality gap: 208232100185.9729, tolerance: 557472645.588279\n",
            "  positive)\n",
            "/usr/local/lib/python3.6/dist-packages/sklearn/linear_model/_coordinate_descent.py:476: ConvergenceWarning: Objective did not converge. You might want to increase the number of iterations. Duality gap: 244866267428.4405, tolerance: 573580033.6402674\n",
            "  positive)\n",
            "/usr/local/lib/python3.6/dist-packages/sklearn/linear_model/_coordinate_descent.py:476: ConvergenceWarning: Objective did not converge. You might want to increase the number of iterations. Duality gap: 214922478666.34784, tolerance: 589798902.7702838\n",
            "  positive)\n",
            "/usr/local/lib/python3.6/dist-packages/sklearn/linear_model/_coordinate_descent.py:476: ConvergenceWarning: Objective did not converge. You might want to increase the number of iterations. Duality gap: 208234161227.20715, tolerance: 557472645.588279\n",
            "  positive)\n",
            "/usr/local/lib/python3.6/dist-packages/sklearn/linear_model/_coordinate_descent.py:476: ConvergenceWarning: Objective did not converge. You might want to increase the number of iterations. Duality gap: 244866354339.49286, tolerance: 573580033.6402674\n",
            "  positive)\n",
            "/usr/local/lib/python3.6/dist-packages/sklearn/linear_model/_coordinate_descent.py:476: ConvergenceWarning: Objective did not converge. You might want to increase the number of iterations. Duality gap: 214923014833.9358, tolerance: 589798902.7702838\n",
            "  positive)\n",
            "/usr/local/lib/python3.6/dist-packages/sklearn/linear_model/_coordinate_descent.py:476: ConvergenceWarning: Objective did not converge. You might want to increase the number of iterations. Duality gap: 208234287422.69897, tolerance: 557472645.588279\n",
            "  positive)\n",
            "/usr/local/lib/python3.6/dist-packages/sklearn/linear_model/_coordinate_descent.py:476: ConvergenceWarning: Objective did not converge. You might want to increase the number of iterations. Duality gap: 244866290734.8181, tolerance: 573580033.6402674\n",
            "  positive)\n",
            "/usr/local/lib/python3.6/dist-packages/sklearn/linear_model/_coordinate_descent.py:476: ConvergenceWarning: Objective did not converge. You might want to increase the number of iterations. Duality gap: 214923075057.67194, tolerance: 589798902.7702838\n",
            "  positive)\n",
            "/usr/local/lib/python3.6/dist-packages/sklearn/linear_model/_coordinate_descent.py:476: ConvergenceWarning: Objective did not converge. You might want to increase the number of iterations. Duality gap: 208234294607.55316, tolerance: 557472645.588279\n",
            "  positive)\n",
            "/usr/local/lib/python3.6/dist-packages/sklearn/linear_model/_coordinate_descent.py:476: ConvergenceWarning: Objective did not converge. You might want to increase the number of iterations. Duality gap: 244866314621.6706, tolerance: 573580033.6402674\n",
            "  positive)\n",
            "/usr/local/lib/python3.6/dist-packages/sklearn/linear_model/_coordinate_descent.py:476: ConvergenceWarning: Objective did not converge. You might want to increase the number of iterations. Duality gap: 214923271260.15515, tolerance: 589798902.7702838\n",
            "  positive)\n",
            "/usr/local/lib/python3.6/dist-packages/sklearn/linear_model/_coordinate_descent.py:476: ConvergenceWarning: Objective did not converge. You might want to increase the number of iterations. Duality gap: 208234471903.09387, tolerance: 557472645.588279\n",
            "  positive)\n",
            "/usr/local/lib/python3.6/dist-packages/sklearn/linear_model/_coordinate_descent.py:476: ConvergenceWarning: Objective did not converge. You might want to increase the number of iterations. Duality gap: 244866503662.08527, tolerance: 573580033.6402674\n",
            "  positive)\n",
            "/usr/local/lib/python3.6/dist-packages/sklearn/linear_model/_coordinate_descent.py:476: ConvergenceWarning: Objective did not converge. You might want to increase the number of iterations. Duality gap: 214925239609.20984, tolerance: 589798902.7702838\n",
            "  positive)\n",
            "/usr/local/lib/python3.6/dist-packages/sklearn/linear_model/_coordinate_descent.py:476: ConvergenceWarning: Objective did not converge. You might want to increase the number of iterations. Duality gap: 208236220386.0504, tolerance: 557472645.588279\n",
            "  positive)\n",
            "/usr/local/lib/python3.6/dist-packages/sklearn/linear_model/_coordinate_descent.py:476: ConvergenceWarning: Objective did not converge. You might want to increase the number of iterations. Duality gap: 244868409186.04895, tolerance: 573580033.6402674\n",
            "  positive)\n",
            "/usr/local/lib/python3.6/dist-packages/sklearn/linear_model/_coordinate_descent.py:476: ConvergenceWarning: Objective did not converge. You might want to increase the number of iterations. Duality gap: 214943936059.46295, tolerance: 589798902.7702838\n",
            "  positive)\n",
            "/usr/local/lib/python3.6/dist-packages/sklearn/linear_model/_coordinate_descent.py:476: ConvergenceWarning: Objective did not converge. You might want to increase the number of iterations. Duality gap: 208252683565.26715, tolerance: 557472645.588279\n",
            "  positive)\n",
            "/usr/local/lib/python3.6/dist-packages/sklearn/linear_model/_coordinate_descent.py:476: ConvergenceWarning: Objective did not converge. You might want to increase the number of iterations. Duality gap: 244886474657.09302, tolerance: 573580033.6402674\n",
            "  positive)\n",
            "/usr/local/lib/python3.6/dist-packages/sklearn/linear_model/_coordinate_descent.py:476: ConvergenceWarning: Objective did not converge. You might want to increase the number of iterations. Duality gap: 139213884952.31458, tolerance: 589798902.7702838\n",
            "  positive)\n",
            "/usr/local/lib/python3.6/dist-packages/sklearn/linear_model/_coordinate_descent.py:476: ConvergenceWarning: Objective did not converge. You might want to increase the number of iterations. Duality gap: 77983571413.36292, tolerance: 557472645.588279\n",
            "  positive)\n",
            "/usr/local/lib/python3.6/dist-packages/sklearn/linear_model/_coordinate_descent.py:476: ConvergenceWarning: Objective did not converge. You might want to increase the number of iterations. Duality gap: 99112072889.18823, tolerance: 573580033.6402674\n",
            "  positive)\n"
          ],
          "name": "stderr"
        }
      ]
    },
    {
      "cell_type": "code",
      "metadata": {
        "colab": {
          "base_uri": "https://localhost:8080/"
        },
        "id": "tgJVitNkS_kU",
        "outputId": "ed1bd8a1-7bf8-4810-f579-e46aa2f52f2a"
      },
      "source": [
        "list(zip(alphas, scores))"
      ],
      "execution_count": 61,
      "outputs": [
        {
          "output_type": "execute_result",
          "data": {
            "text/plain": [
              "[(1e-09, 0.7831309631117954),\n",
              " (1e-08, 0.7831309631118313),\n",
              " (1e-07, 0.7831309631120351),\n",
              " (1e-06, 0.7831309631142345),\n",
              " (1e-05, 0.7831309631361278),\n",
              " (0.0001, 0.7831309633551169),\n",
              " (0.001, 0.7831309655449478),\n",
              " (0.01, 0.7831309874414792),\n",
              " (0.1, 0.7831314337913748),\n",
              " (1.0, 0.7831351596109964)]"
            ]
          },
          "metadata": {
            "tags": []
          },
          "execution_count": 61
        }
      ]
    },
    {
      "cell_type": "code",
      "metadata": {
        "colab": {
          "base_uri": "https://localhost:8080/"
        },
        "id": "5srzxs0rTlYa",
        "outputId": "49a9417a-5d4a-43c7-ab3f-cd215c588587"
      },
      "source": [
        "Lasso(alpha=1e-6).fit(x_data, y_data).coef_"
      ],
      "execution_count": 62,
      "outputs": [
        {
          "output_type": "stream",
          "text": [
            "/usr/local/lib/python3.6/dist-packages/sklearn/linear_model/_coordinate_descent.py:476: ConvergenceWarning: Objective did not converge. You might want to increase the number of iterations. Duality gap: 614689451204.8982, tolerance: 860530034.3448575\n",
            "  positive)\n"
          ],
          "name": "stderr"
        },
        {
          "output_type": "execute_result",
          "data": {
            "text/plain": [
              "array([ 6.20109554e+01,  6.23215857e+01,  2.11774725e+01, -1.00174425e+04,\n",
              "        4.91163459e+01,  3.97630590e+01,  8.11809562e+03,  1.68342490e+03,\n",
              "        3.80418604e+01,  1.06871697e+01,  3.58145634e+03,  2.28207092e+03,\n",
              "        6.95146196e+00,  1.59519110e+04, -6.50218777e+01, -1.34467678e+01,\n",
              "       -2.84966553e+03, -2.15478683e+04,  4.87622621e-01, -1.07955775e+02,\n",
              "        4.51243778e+01, -1.91773092e+02,  2.75006510e+01, -5.62981522e-01,\n",
              "       -5.79616969e+01, -7.43826634e-01,  5.48998806e+03,  1.83281484e+04,\n",
              "       -3.04196832e+01,  5.31998827e+01,  5.37629395e+03, -3.12099869e+01,\n",
              "        2.49968435e+01,  3.70825555e+02,  9.99007191e+01, -6.79559883e+02])"
            ]
          },
          "metadata": {
            "tags": []
          },
          "execution_count": 62
        }
      ]
    },
    {
      "cell_type": "code",
      "metadata": {
        "id": "7lwBwTWRZA7O"
      },
      "source": [
        "# Add Polynomial Features to this pipeline: \r\n",
        "pf = PolynomialFeatures(degree=3)"
      ],
      "execution_count": 68,
      "outputs": []
    },
    {
      "cell_type": "code",
      "metadata": {
        "colab": {
          "base_uri": "https://localhost:8080/"
        },
        "id": "iETbTUTPZ1o-",
        "outputId": "8c8ebf00-077f-4d3a-a4f5-8b9b52334081"
      },
      "source": [
        "scores = []\r\n",
        "alphas = np.geomspace(0.001, 10, 5)\r\n",
        "alphas"
      ],
      "execution_count": 70,
      "outputs": [
        {
          "output_type": "execute_result",
          "data": {
            "text/plain": [
              "array([1.e-03, 1.e-02, 1.e-01, 1.e+00, 1.e+01])"
            ]
          },
          "metadata": {
            "tags": []
          },
          "execution_count": 70
        }
      ]
    },
    {
      "cell_type": "code",
      "metadata": {
        "colab": {
          "base_uri": "https://localhost:8080/"
        },
        "id": "Z026SQrpaGL3",
        "outputId": "f35fcc28-1b71-4968-88ba-44d2c2da5471"
      },
      "source": [
        "for alpha in alphas:\r\n",
        "  las = Lasso(alpha=alpha, max_iter=1000)\r\n",
        "  estimator = Pipeline([('Make_higher_degree', pf),\r\n",
        "                        ('Scaler', s),\r\n",
        "                        ('Lass_regression', las)])\r\n",
        "  predictions = cross_val_predict(estimator, x_data, y_data, cv=kf)\r\n",
        "  score = r2_score(y_data, predictions)\r\n",
        "  scores.append(score)"
      ],
      "execution_count": 72,
      "outputs": [
        {
          "output_type": "stream",
          "text": [
            "/usr/local/lib/python3.6/dist-packages/sklearn/linear_model/_coordinate_descent.py:476: ConvergenceWarning: Objective did not converge. You might want to increase the number of iterations. Duality gap: 6977752106.051406, tolerance: 589798902.7702838\n",
            "  positive)\n",
            "/usr/local/lib/python3.6/dist-packages/sklearn/linear_model/_coordinate_descent.py:476: ConvergenceWarning: Objective did not converge. You might want to increase the number of iterations. Duality gap: 6153573133.943399, tolerance: 557472645.588279\n",
            "  positive)\n",
            "/usr/local/lib/python3.6/dist-packages/sklearn/linear_model/_coordinate_descent.py:476: ConvergenceWarning: Objective did not converge. You might want to increase the number of iterations. Duality gap: 6022707252.909113, tolerance: 573580033.6402674\n",
            "  positive)\n",
            "/usr/local/lib/python3.6/dist-packages/sklearn/linear_model/_coordinate_descent.py:476: ConvergenceWarning: Objective did not converge. You might want to increase the number of iterations. Duality gap: 7083409429.203057, tolerance: 589798902.7702838\n",
            "  positive)\n",
            "/usr/local/lib/python3.6/dist-packages/sklearn/linear_model/_coordinate_descent.py:476: ConvergenceWarning: Objective did not converge. You might want to increase the number of iterations. Duality gap: 6254680475.11065, tolerance: 557472645.588279\n",
            "  positive)\n",
            "/usr/local/lib/python3.6/dist-packages/sklearn/linear_model/_coordinate_descent.py:476: ConvergenceWarning: Objective did not converge. You might want to increase the number of iterations. Duality gap: 6129601015.275667, tolerance: 573580033.6402674\n",
            "  positive)\n",
            "/usr/local/lib/python3.6/dist-packages/sklearn/linear_model/_coordinate_descent.py:476: ConvergenceWarning: Objective did not converge. You might want to increase the number of iterations. Duality gap: 8090120313.149925, tolerance: 589798902.7702838\n",
            "  positive)\n",
            "/usr/local/lib/python3.6/dist-packages/sklearn/linear_model/_coordinate_descent.py:476: ConvergenceWarning: Objective did not converge. You might want to increase the number of iterations. Duality gap: 7216710716.622845, tolerance: 557472645.588279\n",
            "  positive)\n",
            "/usr/local/lib/python3.6/dist-packages/sklearn/linear_model/_coordinate_descent.py:476: ConvergenceWarning: Objective did not converge. You might want to increase the number of iterations. Duality gap: 7152123633.641874, tolerance: 573580033.6402674\n",
            "  positive)\n",
            "/usr/local/lib/python3.6/dist-packages/sklearn/linear_model/_coordinate_descent.py:476: ConvergenceWarning: Objective did not converge. You might want to increase the number of iterations. Duality gap: 14623665989.259495, tolerance: 589798902.7702838\n",
            "  positive)\n",
            "/usr/local/lib/python3.6/dist-packages/sklearn/linear_model/_coordinate_descent.py:476: ConvergenceWarning: Objective did not converge. You might want to increase the number of iterations. Duality gap: 13615370194.271938, tolerance: 557472645.588279\n",
            "  positive)\n",
            "/usr/local/lib/python3.6/dist-packages/sklearn/linear_model/_coordinate_descent.py:476: ConvergenceWarning: Objective did not converge. You might want to increase the number of iterations. Duality gap: 14235165497.933167, tolerance: 573580033.6402674\n",
            "  positive)\n",
            "/usr/local/lib/python3.6/dist-packages/sklearn/linear_model/_coordinate_descent.py:476: ConvergenceWarning: Objective did not converge. You might want to increase the number of iterations. Duality gap: 32173378319.392082, tolerance: 589798902.7702838\n",
            "  positive)\n",
            "/usr/local/lib/python3.6/dist-packages/sklearn/linear_model/_coordinate_descent.py:476: ConvergenceWarning: Objective did not converge. You might want to increase the number of iterations. Duality gap: 24127842268.919178, tolerance: 557472645.588279\n",
            "  positive)\n",
            "/usr/local/lib/python3.6/dist-packages/sklearn/linear_model/_coordinate_descent.py:476: ConvergenceWarning: Objective did not converge. You might want to increase the number of iterations. Duality gap: 25621386614.707012, tolerance: 573580033.6402674\n",
            "  positive)\n"
          ],
          "name": "stderr"
        }
      ]
    },
    {
      "cell_type": "code",
      "metadata": {
        "colab": {
          "base_uri": "https://localhost:8080/"
        },
        "id": "zp-2sRhXa73Y",
        "outputId": "c3d5b85f-0aa6-4ce2-bde2-fbbc2a32c3dd"
      },
      "source": [
        "alphas"
      ],
      "execution_count": 73,
      "outputs": [
        {
          "output_type": "execute_result",
          "data": {
            "text/plain": [
              "array([1.e-03, 1.e-02, 1.e-01, 1.e+00, 1.e+01])"
            ]
          },
          "metadata": {
            "tags": []
          },
          "execution_count": 73
        }
      ]
    },
    {
      "cell_type": "code",
      "metadata": {
        "colab": {
          "base_uri": "https://localhost:8080/"
        },
        "id": "zOi0epR1biKX",
        "outputId": "ac236876-3751-49db-94d7-e324856974a8"
      },
      "source": [
        "scores"
      ],
      "execution_count": 74,
      "outputs": [
        {
          "output_type": "execute_result",
          "data": {
            "text/plain": [
              "[-1.081585434240524,\n",
              " -1.0671174298791137,\n",
              " -0.9477237020791633,\n",
              " -1.1528355422993504,\n",
              " -0.2772679590079039]"
            ]
          },
          "metadata": {
            "tags": []
          },
          "execution_count": 74
        }
      ]
    },
    {
      "cell_type": "code",
      "metadata": {
        "colab": {
          "base_uri": "https://localhost:8080/",
          "height": 278
        },
        "id": "2s-R79cSbk06",
        "outputId": "29e92c7f-5c5a-4fb6-f653-1f461c1a327a"
      },
      "source": [
        "plt.semilogx(alphas, scores);"
      ],
      "execution_count": 79,
      "outputs": [
        {
          "output_type": "display_data",
          "data": {
            "image/png": "[encoded data removed]",
            "text/plain": [
              "<Figure size 432x288 with 1 Axes>"
            ]
          },
          "metadata": {
            "tags": [],
            "image/png": {
              "width": 401,
              "height": 261
            }
          }
        }
      ]
    },
    {
      "cell_type": "code",
      "metadata": {
        "id": "kOkaqSUpdDLx"
      },
      "source": [
        ""
      ],
      "execution_count": null,
      "outputs": []
    }
  ]
}