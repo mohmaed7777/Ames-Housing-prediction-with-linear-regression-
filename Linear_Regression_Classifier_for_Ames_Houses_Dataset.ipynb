{
  "nbformat": 4,
  "nbformat_minor": 0,
  "metadata": {
    "colab": {
      "name": "Linear Regression Classifier for Ames Houses Dataset.ipynb",
      "provenance": [],
      "authorship_tag": "ABX9TyO5e/L+cZ7Y1yvfssUJXLXF",
      "include_colab_link": true
    },
    "kernelspec": {
      "name": "python3",
      "display_name": "Python 3"
    }
  },
  "cells": [
    {
      "cell_type": "markdown",
      "metadata": {
        "id": "view-in-github",
        "colab_type": "text"
      },
      "source": [
        "<a href=\"https://colab.research.google.com/github/mohmaed7777/Ames-Housing-prediction-with-linear-regression-/blob/main/Linear_Regression_Classifier_for_Ames_Houses_Dataset.ipynb\" target=\"_parent\"><img src=\"https://colab.research.google.com/assets/colab-badge.svg\" alt=\"Open In Colab\"/></a>"
      ]
    },
    {
      "cell_type": "code",
      "metadata": {
        "colab": {
          "base_uri": "https://localhost:8080/"
        },
        "id": "ws2fEqQZ29KJ",
        "outputId": "ae91423e-99e7-4dd6-dba2-dde8a56ff3b1"
      },
      "source": [
        "import pandas as pd \r\n",
        "import numpy as np \r\n",
        "import matplotlib.pyplot as plt \r\n",
        "%matplotlib inline \r\n",
        "import seaborn as sns \r\n",
        "import sklearn \r\n",
        "from sklearn.linear_model import LinearRegression\r\n",
        "from sklearn.model_selection import train_test_split \r\n",
        "from sklearn.preprocessing import (StandardScaler, PolynomialFeatures)\r\n",
        "from sklearn.metrics import r2_score\r\n",
        "%pylab inline\r\n",
        "%config InlineBackend.figure_formats=['retina']\r\n",
        "print('Setup Complete^_____^')"
      ],
      "execution_count": 23,
      "outputs": [
        {
          "output_type": "stream",
          "text": [
            "Populating the interactive namespace from numpy and matplotlib\n",
            "Setup Complete^_____^\n"
          ],
          "name": "stdout"
        }
      ]
    },
    {
      "cell_type": "code",
      "metadata": {
        "colab": {
          "base_uri": "https://localhost:8080/",
          "height": 215
        },
        "id": "XWjdBvcr3u0u",
        "outputId": "2eaa7fcd-46ca-408e-8018-13b8ce3f5e57"
      },
      "source": [
        "file_path = '/content/KEh0FlFxQOuIdBZRcXDrwA_0dde15d9a6514d0e8a0fa13c41b9e1d7_Ames_Housing_Sales.csv'\r\n",
        "df = pd.read_csv(file_path)\r\n",
        "df.head()"
      ],
      "execution_count": 24,
      "outputs": [
        {
          "output_type": "execute_result",
          "data": {
            "text/html": [
              "<div>\n",
              "<style scoped>\n",
              "    .dataframe tbody tr th:only-of-type {\n",
              "        vertical-align: middle;\n",
              "    }\n",
              "\n",
              "    .dataframe tbody tr th {\n",
              "        vertical-align: top;\n",
              "    }\n",
              "\n",
              "    .dataframe thead th {\n",
              "        text-align: right;\n",
              "    }\n",
              "</style>\n",
              "<table border=\"1\" class=\"dataframe\">\n",
              "  <thead>\n",
              "    <tr style=\"text-align: right;\">\n",
              "      <th></th>\n",
              "      <th>1stFlrSF</th>\n",
              "      <th>2ndFlrSF</th>\n",
              "      <th>3SsnPorch</th>\n",
              "      <th>Alley</th>\n",
              "      <th>BedroomAbvGr</th>\n",
              "      <th>BldgType</th>\n",
              "      <th>BsmtCond</th>\n",
              "      <th>BsmtExposure</th>\n",
              "      <th>BsmtFinSF1</th>\n",
              "      <th>BsmtFinSF2</th>\n",
              "      <th>BsmtFinType1</th>\n",
              "      <th>BsmtFinType2</th>\n",
              "      <th>BsmtFullBath</th>\n",
              "      <th>BsmtHalfBath</th>\n",
              "      <th>BsmtQual</th>\n",
              "      <th>BsmtUnfSF</th>\n",
              "      <th>CentralAir</th>\n",
              "      <th>Condition1</th>\n",
              "      <th>Condition2</th>\n",
              "      <th>Electrical</th>\n",
              "      <th>EnclosedPorch</th>\n",
              "      <th>ExterCond</th>\n",
              "      <th>ExterQual</th>\n",
              "      <th>Exterior1st</th>\n",
              "      <th>Exterior2nd</th>\n",
              "      <th>Fence</th>\n",
              "      <th>FireplaceQu</th>\n",
              "      <th>Fireplaces</th>\n",
              "      <th>Foundation</th>\n",
              "      <th>FullBath</th>\n",
              "      <th>Functional</th>\n",
              "      <th>GarageArea</th>\n",
              "      <th>GarageCars</th>\n",
              "      <th>GarageCond</th>\n",
              "      <th>GarageFinish</th>\n",
              "      <th>GarageQual</th>\n",
              "      <th>GarageType</th>\n",
              "      <th>GarageYrBlt</th>\n",
              "      <th>GrLivArea</th>\n",
              "      <th>HalfBath</th>\n",
              "      <th>Heating</th>\n",
              "      <th>HeatingQC</th>\n",
              "      <th>HouseStyle</th>\n",
              "      <th>KitchenAbvGr</th>\n",
              "      <th>KitchenQual</th>\n",
              "      <th>LandContour</th>\n",
              "      <th>LandSlope</th>\n",
              "      <th>LotArea</th>\n",
              "      <th>LotConfig</th>\n",
              "      <th>LotFrontage</th>\n",
              "      <th>LotShape</th>\n",
              "      <th>LowQualFinSF</th>\n",
              "      <th>MSSubClass</th>\n",
              "      <th>MSZoning</th>\n",
              "      <th>MasVnrArea</th>\n",
              "      <th>MasVnrType</th>\n",
              "      <th>MiscFeature</th>\n",
              "      <th>MiscVal</th>\n",
              "      <th>MoSold</th>\n",
              "      <th>Neighborhood</th>\n",
              "      <th>OpenPorchSF</th>\n",
              "      <th>OverallCond</th>\n",
              "      <th>OverallQual</th>\n",
              "      <th>PavedDrive</th>\n",
              "      <th>PoolArea</th>\n",
              "      <th>PoolQC</th>\n",
              "      <th>RoofMatl</th>\n",
              "      <th>RoofStyle</th>\n",
              "      <th>SaleCondition</th>\n",
              "      <th>SaleType</th>\n",
              "      <th>ScreenPorch</th>\n",
              "      <th>Street</th>\n",
              "      <th>TotRmsAbvGrd</th>\n",
              "      <th>TotalBsmtSF</th>\n",
              "      <th>Utilities</th>\n",
              "      <th>WoodDeckSF</th>\n",
              "      <th>YearBuilt</th>\n",
              "      <th>YearRemodAdd</th>\n",
              "      <th>YrSold</th>\n",
              "      <th>SalePrice</th>\n",
              "    </tr>\n",
              "  </thead>\n",
              "  <tbody>\n",
              "    <tr>\n",
              "      <th>0</th>\n",
              "      <td>856.0</td>\n",
              "      <td>854.0</td>\n",
              "      <td>0.0</td>\n",
              "      <td>None</td>\n",
              "      <td>3</td>\n",
              "      <td>1Fam</td>\n",
              "      <td>TA</td>\n",
              "      <td>No</td>\n",
              "      <td>706.0</td>\n",
              "      <td>0.0</td>\n",
              "      <td>GLQ</td>\n",
              "      <td>Unf</td>\n",
              "      <td>1</td>\n",
              "      <td>0</td>\n",
              "      <td>Gd</td>\n",
              "      <td>150.0</td>\n",
              "      <td>Y</td>\n",
              "      <td>Norm</td>\n",
              "      <td>Norm</td>\n",
              "      <td>SBrkr</td>\n",
              "      <td>0.0</td>\n",
              "      <td>TA</td>\n",
              "      <td>Gd</td>\n",
              "      <td>VinylSd</td>\n",
              "      <td>VinylSd</td>\n",
              "      <td>None</td>\n",
              "      <td>None</td>\n",
              "      <td>0</td>\n",
              "      <td>PConc</td>\n",
              "      <td>2</td>\n",
              "      <td>Typ</td>\n",
              "      <td>548.0</td>\n",
              "      <td>2</td>\n",
              "      <td>TA</td>\n",
              "      <td>RFn</td>\n",
              "      <td>TA</td>\n",
              "      <td>Attchd</td>\n",
              "      <td>2003.0</td>\n",
              "      <td>1710.0</td>\n",
              "      <td>1</td>\n",
              "      <td>GasA</td>\n",
              "      <td>Ex</td>\n",
              "      <td>2Story</td>\n",
              "      <td>1</td>\n",
              "      <td>Gd</td>\n",
              "      <td>Lvl</td>\n",
              "      <td>Gtl</td>\n",
              "      <td>8450.0</td>\n",
              "      <td>Inside</td>\n",
              "      <td>65.0</td>\n",
              "      <td>Reg</td>\n",
              "      <td>0.0</td>\n",
              "      <td>60</td>\n",
              "      <td>RL</td>\n",
              "      <td>196.0</td>\n",
              "      <td>BrkFace</td>\n",
              "      <td>None</td>\n",
              "      <td>0.0</td>\n",
              "      <td>2</td>\n",
              "      <td>CollgCr</td>\n",
              "      <td>61.0</td>\n",
              "      <td>5</td>\n",
              "      <td>7</td>\n",
              "      <td>Y</td>\n",
              "      <td>0.0</td>\n",
              "      <td>None</td>\n",
              "      <td>CompShg</td>\n",
              "      <td>Gable</td>\n",
              "      <td>Normal</td>\n",
              "      <td>WD</td>\n",
              "      <td>0.0</td>\n",
              "      <td>Pave</td>\n",
              "      <td>8</td>\n",
              "      <td>856.0</td>\n",
              "      <td>AllPub</td>\n",
              "      <td>0.0</td>\n",
              "      <td>2003</td>\n",
              "      <td>2003</td>\n",
              "      <td>2008</td>\n",
              "      <td>208500.0</td>\n",
              "    </tr>\n",
              "    <tr>\n",
              "      <th>1</th>\n",
              "      <td>1262.0</td>\n",
              "      <td>0.0</td>\n",
              "      <td>0.0</td>\n",
              "      <td>None</td>\n",
              "      <td>3</td>\n",
              "      <td>1Fam</td>\n",
              "      <td>TA</td>\n",
              "      <td>Gd</td>\n",
              "      <td>978.0</td>\n",
              "      <td>0.0</td>\n",
              "      <td>ALQ</td>\n",
              "      <td>Unf</td>\n",
              "      <td>0</td>\n",
              "      <td>1</td>\n",
              "      <td>Gd</td>\n",
              "      <td>284.0</td>\n",
              "      <td>Y</td>\n",
              "      <td>Feedr</td>\n",
              "      <td>Norm</td>\n",
              "      <td>SBrkr</td>\n",
              "      <td>0.0</td>\n",
              "      <td>TA</td>\n",
              "      <td>TA</td>\n",
              "      <td>MetalSd</td>\n",
              "      <td>MetalSd</td>\n",
              "      <td>None</td>\n",
              "      <td>TA</td>\n",
              "      <td>1</td>\n",
              "      <td>CBlock</td>\n",
              "      <td>2</td>\n",
              "      <td>Typ</td>\n",
              "      <td>460.0</td>\n",
              "      <td>2</td>\n",
              "      <td>TA</td>\n",
              "      <td>RFn</td>\n",
              "      <td>TA</td>\n",
              "      <td>Attchd</td>\n",
              "      <td>1976.0</td>\n",
              "      <td>1262.0</td>\n",
              "      <td>0</td>\n",
              "      <td>GasA</td>\n",
              "      <td>Ex</td>\n",
              "      <td>1Story</td>\n",
              "      <td>1</td>\n",
              "      <td>TA</td>\n",
              "      <td>Lvl</td>\n",
              "      <td>Gtl</td>\n",
              "      <td>9600.0</td>\n",
              "      <td>FR2</td>\n",
              "      <td>80.0</td>\n",
              "      <td>Reg</td>\n",
              "      <td>0.0</td>\n",
              "      <td>20</td>\n",
              "      <td>RL</td>\n",
              "      <td>0.0</td>\n",
              "      <td>None</td>\n",
              "      <td>None</td>\n",
              "      <td>0.0</td>\n",
              "      <td>5</td>\n",
              "      <td>Veenker</td>\n",
              "      <td>0.0</td>\n",
              "      <td>8</td>\n",
              "      <td>6</td>\n",
              "      <td>Y</td>\n",
              "      <td>0.0</td>\n",
              "      <td>None</td>\n",
              "      <td>CompShg</td>\n",
              "      <td>Gable</td>\n",
              "      <td>Normal</td>\n",
              "      <td>WD</td>\n",
              "      <td>0.0</td>\n",
              "      <td>Pave</td>\n",
              "      <td>6</td>\n",
              "      <td>1262.0</td>\n",
              "      <td>AllPub</td>\n",
              "      <td>298.0</td>\n",
              "      <td>1976</td>\n",
              "      <td>1976</td>\n",
              "      <td>2007</td>\n",
              "      <td>181500.0</td>\n",
              "    </tr>\n",
              "    <tr>\n",
              "      <th>2</th>\n",
              "      <td>920.0</td>\n",
              "      <td>866.0</td>\n",
              "      <td>0.0</td>\n",
              "      <td>None</td>\n",
              "      <td>3</td>\n",
              "      <td>1Fam</td>\n",
              "      <td>TA</td>\n",
              "      <td>Mn</td>\n",
              "      <td>486.0</td>\n",
              "      <td>0.0</td>\n",
              "      <td>GLQ</td>\n",
              "      <td>Unf</td>\n",
              "      <td>1</td>\n",
              "      <td>0</td>\n",
              "      <td>Gd</td>\n",
              "      <td>434.0</td>\n",
              "      <td>Y</td>\n",
              "      <td>Norm</td>\n",
              "      <td>Norm</td>\n",
              "      <td>SBrkr</td>\n",
              "      <td>0.0</td>\n",
              "      <td>TA</td>\n",
              "      <td>Gd</td>\n",
              "      <td>VinylSd</td>\n",
              "      <td>VinylSd</td>\n",
              "      <td>None</td>\n",
              "      <td>TA</td>\n",
              "      <td>1</td>\n",
              "      <td>PConc</td>\n",
              "      <td>2</td>\n",
              "      <td>Typ</td>\n",
              "      <td>608.0</td>\n",
              "      <td>2</td>\n",
              "      <td>TA</td>\n",
              "      <td>RFn</td>\n",
              "      <td>TA</td>\n",
              "      <td>Attchd</td>\n",
              "      <td>2001.0</td>\n",
              "      <td>1786.0</td>\n",
              "      <td>1</td>\n",
              "      <td>GasA</td>\n",
              "      <td>Ex</td>\n",
              "      <td>2Story</td>\n",
              "      <td>1</td>\n",
              "      <td>Gd</td>\n",
              "      <td>Lvl</td>\n",
              "      <td>Gtl</td>\n",
              "      <td>11250.0</td>\n",
              "      <td>Inside</td>\n",
              "      <td>68.0</td>\n",
              "      <td>IR1</td>\n",
              "      <td>0.0</td>\n",
              "      <td>60</td>\n",
              "      <td>RL</td>\n",
              "      <td>162.0</td>\n",
              "      <td>BrkFace</td>\n",
              "      <td>None</td>\n",
              "      <td>0.0</td>\n",
              "      <td>9</td>\n",
              "      <td>CollgCr</td>\n",
              "      <td>42.0</td>\n",
              "      <td>5</td>\n",
              "      <td>7</td>\n",
              "      <td>Y</td>\n",
              "      <td>0.0</td>\n",
              "      <td>None</td>\n",
              "      <td>CompShg</td>\n",
              "      <td>Gable</td>\n",
              "      <td>Normal</td>\n",
              "      <td>WD</td>\n",
              "      <td>0.0</td>\n",
              "      <td>Pave</td>\n",
              "      <td>6</td>\n",
              "      <td>920.0</td>\n",
              "      <td>AllPub</td>\n",
              "      <td>0.0</td>\n",
              "      <td>2001</td>\n",
              "      <td>2002</td>\n",
              "      <td>2008</td>\n",
              "      <td>223500.0</td>\n",
              "    </tr>\n",
              "    <tr>\n",
              "      <th>3</th>\n",
              "      <td>961.0</td>\n",
              "      <td>756.0</td>\n",
              "      <td>0.0</td>\n",
              "      <td>None</td>\n",
              "      <td>3</td>\n",
              "      <td>1Fam</td>\n",
              "      <td>Gd</td>\n",
              "      <td>No</td>\n",
              "      <td>216.0</td>\n",
              "      <td>0.0</td>\n",
              "      <td>ALQ</td>\n",
              "      <td>Unf</td>\n",
              "      <td>1</td>\n",
              "      <td>0</td>\n",
              "      <td>TA</td>\n",
              "      <td>540.0</td>\n",
              "      <td>Y</td>\n",
              "      <td>Norm</td>\n",
              "      <td>Norm</td>\n",
              "      <td>SBrkr</td>\n",
              "      <td>272.0</td>\n",
              "      <td>TA</td>\n",
              "      <td>TA</td>\n",
              "      <td>Wd Sdng</td>\n",
              "      <td>Wd Shng</td>\n",
              "      <td>None</td>\n",
              "      <td>Gd</td>\n",
              "      <td>1</td>\n",
              "      <td>BrkTil</td>\n",
              "      <td>1</td>\n",
              "      <td>Typ</td>\n",
              "      <td>642.0</td>\n",
              "      <td>3</td>\n",
              "      <td>TA</td>\n",
              "      <td>Unf</td>\n",
              "      <td>TA</td>\n",
              "      <td>Detchd</td>\n",
              "      <td>1998.0</td>\n",
              "      <td>1717.0</td>\n",
              "      <td>0</td>\n",
              "      <td>GasA</td>\n",
              "      <td>Gd</td>\n",
              "      <td>2Story</td>\n",
              "      <td>1</td>\n",
              "      <td>Gd</td>\n",
              "      <td>Lvl</td>\n",
              "      <td>Gtl</td>\n",
              "      <td>9550.0</td>\n",
              "      <td>Corner</td>\n",
              "      <td>60.0</td>\n",
              "      <td>IR1</td>\n",
              "      <td>0.0</td>\n",
              "      <td>70</td>\n",
              "      <td>RL</td>\n",
              "      <td>0.0</td>\n",
              "      <td>None</td>\n",
              "      <td>None</td>\n",
              "      <td>0.0</td>\n",
              "      <td>2</td>\n",
              "      <td>Crawfor</td>\n",
              "      <td>35.0</td>\n",
              "      <td>5</td>\n",
              "      <td>7</td>\n",
              "      <td>Y</td>\n",
              "      <td>0.0</td>\n",
              "      <td>None</td>\n",
              "      <td>CompShg</td>\n",
              "      <td>Gable</td>\n",
              "      <td>Abnorml</td>\n",
              "      <td>WD</td>\n",
              "      <td>0.0</td>\n",
              "      <td>Pave</td>\n",
              "      <td>7</td>\n",
              "      <td>756.0</td>\n",
              "      <td>AllPub</td>\n",
              "      <td>0.0</td>\n",
              "      <td>1915</td>\n",
              "      <td>1970</td>\n",
              "      <td>2006</td>\n",
              "      <td>140000.0</td>\n",
              "    </tr>\n",
              "    <tr>\n",
              "      <th>4</th>\n",
              "      <td>1145.0</td>\n",
              "      <td>1053.0</td>\n",
              "      <td>0.0</td>\n",
              "      <td>None</td>\n",
              "      <td>4</td>\n",
              "      <td>1Fam</td>\n",
              "      <td>TA</td>\n",
              "      <td>Av</td>\n",
              "      <td>655.0</td>\n",
              "      <td>0.0</td>\n",
              "      <td>GLQ</td>\n",
              "      <td>Unf</td>\n",
              "      <td>1</td>\n",
              "      <td>0</td>\n",
              "      <td>Gd</td>\n",
              "      <td>490.0</td>\n",
              "      <td>Y</td>\n",
              "      <td>Norm</td>\n",
              "      <td>Norm</td>\n",
              "      <td>SBrkr</td>\n",
              "      <td>0.0</td>\n",
              "      <td>TA</td>\n",
              "      <td>Gd</td>\n",
              "      <td>VinylSd</td>\n",
              "      <td>VinylSd</td>\n",
              "      <td>None</td>\n",
              "      <td>TA</td>\n",
              "      <td>1</td>\n",
              "      <td>PConc</td>\n",
              "      <td>2</td>\n",
              "      <td>Typ</td>\n",
              "      <td>836.0</td>\n",
              "      <td>3</td>\n",
              "      <td>TA</td>\n",
              "      <td>RFn</td>\n",
              "      <td>TA</td>\n",
              "      <td>Attchd</td>\n",
              "      <td>2000.0</td>\n",
              "      <td>2198.0</td>\n",
              "      <td>1</td>\n",
              "      <td>GasA</td>\n",
              "      <td>Ex</td>\n",
              "      <td>2Story</td>\n",
              "      <td>1</td>\n",
              "      <td>Gd</td>\n",
              "      <td>Lvl</td>\n",
              "      <td>Gtl</td>\n",
              "      <td>14260.0</td>\n",
              "      <td>FR2</td>\n",
              "      <td>84.0</td>\n",
              "      <td>IR1</td>\n",
              "      <td>0.0</td>\n",
              "      <td>60</td>\n",
              "      <td>RL</td>\n",
              "      <td>350.0</td>\n",
              "      <td>BrkFace</td>\n",
              "      <td>None</td>\n",
              "      <td>0.0</td>\n",
              "      <td>12</td>\n",
              "      <td>NoRidge</td>\n",
              "      <td>84.0</td>\n",
              "      <td>5</td>\n",
              "      <td>8</td>\n",
              "      <td>Y</td>\n",
              "      <td>0.0</td>\n",
              "      <td>None</td>\n",
              "      <td>CompShg</td>\n",
              "      <td>Gable</td>\n",
              "      <td>Normal</td>\n",
              "      <td>WD</td>\n",
              "      <td>0.0</td>\n",
              "      <td>Pave</td>\n",
              "      <td>9</td>\n",
              "      <td>1145.0</td>\n",
              "      <td>AllPub</td>\n",
              "      <td>192.0</td>\n",
              "      <td>2000</td>\n",
              "      <td>2000</td>\n",
              "      <td>2008</td>\n",
              "      <td>250000.0</td>\n",
              "    </tr>\n",
              "  </tbody>\n",
              "</table>\n",
              "</div>"
            ],
            "text/plain": [
              "   1stFlrSF  2ndFlrSF  3SsnPorch  ... YearRemodAdd  YrSold SalePrice\n",
              "0     856.0     854.0        0.0  ...         2003    2008  208500.0\n",
              "1    1262.0       0.0        0.0  ...         1976    2007  181500.0\n",
              "2     920.0     866.0        0.0  ...         2002    2008  223500.0\n",
              "3     961.0     756.0        0.0  ...         1970    2006  140000.0\n",
              "4    1145.0    1053.0        0.0  ...         2000    2008  250000.0\n",
              "\n",
              "[5 rows x 80 columns]"
            ]
          },
          "metadata": {
            "tags": []
          },
          "execution_count": 24
        }
      ]
    },
    {
      "cell_type": "code",
      "metadata": {
        "colab": {
          "base_uri": "https://localhost:8080/"
        },
        "id": "SzuY1Onc4qJS",
        "outputId": "c49ea716-5a59-4534-ecf4-812952d6239c"
      },
      "source": [
        "df.shape"
      ],
      "execution_count": 25,
      "outputs": [
        {
          "output_type": "execute_result",
          "data": {
            "text/plain": [
              "(1379, 80)"
            ]
          },
          "metadata": {
            "tags": []
          },
          "execution_count": 25
        }
      ]
    },
    {
      "cell_type": "code",
      "metadata": {
        "colab": {
          "base_uri": "https://localhost:8080/"
        },
        "id": "O7VgJITk47fD",
        "outputId": "c24e176b-0d36-48a2-b244-3244241183b4"
      },
      "source": [
        "df.info()"
      ],
      "execution_count": 26,
      "outputs": [
        {
          "output_type": "stream",
          "text": [
            "<class 'pandas.core.frame.DataFrame'>\n",
            "RangeIndex: 1379 entries, 0 to 1378\n",
            "Data columns (total 80 columns):\n",
            " #   Column         Non-Null Count  Dtype  \n",
            "---  ------         --------------  -----  \n",
            " 0   1stFlrSF       1379 non-null   float64\n",
            " 1   2ndFlrSF       1379 non-null   float64\n",
            " 2   3SsnPorch      1379 non-null   float64\n",
            " 3   Alley          1379 non-null   object \n",
            " 4   BedroomAbvGr   1379 non-null   int64  \n",
            " 5   BldgType       1379 non-null   object \n",
            " 6   BsmtCond       1379 non-null   object \n",
            " 7   BsmtExposure   1379 non-null   object \n",
            " 8   BsmtFinSF1     1379 non-null   float64\n",
            " 9   BsmtFinSF2     1379 non-null   float64\n",
            " 10  BsmtFinType1   1379 non-null   object \n",
            " 11  BsmtFinType2   1379 non-null   object \n",
            " 12  BsmtFullBath   1379 non-null   int64  \n",
            " 13  BsmtHalfBath   1379 non-null   int64  \n",
            " 14  BsmtQual       1379 non-null   object \n",
            " 15  BsmtUnfSF      1379 non-null   float64\n",
            " 16  CentralAir     1379 non-null   object \n",
            " 17  Condition1     1379 non-null   object \n",
            " 18  Condition2     1379 non-null   object \n",
            " 19  Electrical     1379 non-null   object \n",
            " 20  EnclosedPorch  1379 non-null   float64\n",
            " 21  ExterCond      1379 non-null   object \n",
            " 22  ExterQual      1379 non-null   object \n",
            " 23  Exterior1st    1379 non-null   object \n",
            " 24  Exterior2nd    1379 non-null   object \n",
            " 25  Fence          1379 non-null   object \n",
            " 26  FireplaceQu    1379 non-null   object \n",
            " 27  Fireplaces     1379 non-null   int64  \n",
            " 28  Foundation     1379 non-null   object \n",
            " 29  FullBath       1379 non-null   int64  \n",
            " 30  Functional     1379 non-null   object \n",
            " 31  GarageArea     1379 non-null   float64\n",
            " 32  GarageCars     1379 non-null   int64  \n",
            " 33  GarageCond     1379 non-null   object \n",
            " 34  GarageFinish   1379 non-null   object \n",
            " 35  GarageQual     1379 non-null   object \n",
            " 36  GarageType     1379 non-null   object \n",
            " 37  GarageYrBlt    1379 non-null   float64\n",
            " 38  GrLivArea      1379 non-null   float64\n",
            " 39  HalfBath       1379 non-null   int64  \n",
            " 40  Heating        1379 non-null   object \n",
            " 41  HeatingQC      1379 non-null   object \n",
            " 42  HouseStyle     1379 non-null   object \n",
            " 43  KitchenAbvGr   1379 non-null   int64  \n",
            " 44  KitchenQual    1379 non-null   object \n",
            " 45  LandContour    1379 non-null   object \n",
            " 46  LandSlope      1379 non-null   object \n",
            " 47  LotArea        1379 non-null   float64\n",
            " 48  LotConfig      1379 non-null   object \n",
            " 49  LotFrontage    1379 non-null   float64\n",
            " 50  LotShape       1379 non-null   object \n",
            " 51  LowQualFinSF   1379 non-null   float64\n",
            " 52  MSSubClass     1379 non-null   int64  \n",
            " 53  MSZoning       1379 non-null   object \n",
            " 54  MasVnrArea     1379 non-null   float64\n",
            " 55  MasVnrType     1379 non-null   object \n",
            " 56  MiscFeature    1379 non-null   object \n",
            " 57  MiscVal        1379 non-null   float64\n",
            " 58  MoSold         1379 non-null   int64  \n",
            " 59  Neighborhood   1379 non-null   object \n",
            " 60  OpenPorchSF    1379 non-null   float64\n",
            " 61  OverallCond    1379 non-null   int64  \n",
            " 62  OverallQual    1379 non-null   int64  \n",
            " 63  PavedDrive     1379 non-null   object \n",
            " 64  PoolArea       1379 non-null   float64\n",
            " 65  PoolQC         1379 non-null   object \n",
            " 66  RoofMatl       1379 non-null   object \n",
            " 67  RoofStyle      1379 non-null   object \n",
            " 68  SaleCondition  1379 non-null   object \n",
            " 69  SaleType       1379 non-null   object \n",
            " 70  ScreenPorch    1379 non-null   float64\n",
            " 71  Street         1379 non-null   object \n",
            " 72  TotRmsAbvGrd   1379 non-null   int64  \n",
            " 73  TotalBsmtSF    1379 non-null   float64\n",
            " 74  Utilities      1379 non-null   object \n",
            " 75  WoodDeckSF     1379 non-null   float64\n",
            " 76  YearBuilt      1379 non-null   int64  \n",
            " 77  YearRemodAdd   1379 non-null   int64  \n",
            " 78  YrSold         1379 non-null   int64  \n",
            " 79  SalePrice      1379 non-null   float64\n",
            "dtypes: float64(21), int64(16), object(43)\n",
            "memory usage: 862.0+ KB\n"
          ],
          "name": "stdout"
        }
      ]
    },
    {
      "cell_type": "code",
      "metadata": {
        "colab": {
          "base_uri": "https://localhost:8080/"
        },
        "id": "MDQAa4_K5DtJ",
        "outputId": "8b825fd6-f543-4c9f-e3af-e1b1843a7914"
      },
      "source": [
        "# We need to know the numbers of strings(objects)/int/floats that we have in our dataframe : \r\n",
        "df.dtypes.value_counts()"
      ],
      "execution_count": 27,
      "outputs": [
        {
          "output_type": "execute_result",
          "data": {
            "text/plain": [
              "object     43\n",
              "float64    21\n",
              "int64      16\n",
              "dtype: int64"
            ]
          },
          "metadata": {
            "tags": []
          },
          "execution_count": 27
        }
      ]
    },
    {
      "cell_type": "code",
      "metadata": {
        "colab": {
          "base_uri": "https://localhost:8080/"
        },
        "id": "aQpG_USm-8-g",
        "outputId": "a7e177cb-1e9b-41d5-aeee-5d8b7765cce0"
      },
      "source": [
        "# Unordered catigorical should be one-hot-encoded:\r\n",
        "# select the objects(strings) columns : \r\n",
        "mask = df.dtypes == np.object\r\n",
        "mask"
      ],
      "execution_count": 28,
      "outputs": [
        {
          "output_type": "execute_result",
          "data": {
            "text/plain": [
              "1stFlrSF        False\n",
              "2ndFlrSF        False\n",
              "3SsnPorch       False\n",
              "Alley            True\n",
              "BedroomAbvGr    False\n",
              "                ...  \n",
              "WoodDeckSF      False\n",
              "YearBuilt       False\n",
              "YearRemodAdd    False\n",
              "YrSold          False\n",
              "SalePrice       False\n",
              "Length: 80, dtype: bool"
            ]
          },
          "metadata": {
            "tags": []
          },
          "execution_count": 28
        }
      ]
    },
    {
      "cell_type": "code",
      "metadata": {
        "colab": {
          "base_uri": "https://localhost:8080/"
        },
        "id": "qOi-BIJd_eha",
        "outputId": "48210704-6350-43dc-8fbc-808d8155e294"
      },
      "source": [
        "# categorical columns : \r\n",
        "categorical_cols = df.columns[mask]\r\n",
        "categorical_cols[:]"
      ],
      "execution_count": 29,
      "outputs": [
        {
          "output_type": "execute_result",
          "data": {
            "text/plain": [
              "Index(['Alley', 'BldgType', 'BsmtCond', 'BsmtExposure', 'BsmtFinType1',\n",
              "       'BsmtFinType2', 'BsmtQual', 'CentralAir', 'Condition1', 'Condition2',\n",
              "       'Electrical', 'ExterCond', 'ExterQual', 'Exterior1st', 'Exterior2nd',\n",
              "       'Fence', 'FireplaceQu', 'Foundation', 'Functional', 'GarageCond',\n",
              "       'GarageFinish', 'GarageQual', 'GarageType', 'Heating', 'HeatingQC',\n",
              "       'HouseStyle', 'KitchenQual', 'LandContour', 'LandSlope', 'LotConfig',\n",
              "       'LotShape', 'MSZoning', 'MasVnrType', 'MiscFeature', 'Neighborhood',\n",
              "       'PavedDrive', 'PoolQC', 'RoofMatl', 'RoofStyle', 'SaleCondition',\n",
              "       'SaleType', 'Street', 'Utilities'],\n",
              "      dtype='object')"
            ]
          },
          "metadata": {
            "tags": []
          },
          "execution_count": 29
        }
      ]
    },
    {
      "cell_type": "code",
      "metadata": {
        "id": "pwnbmPyBDZKM"
      },
      "source": [
        "num_ohc_cols = df[categorical_cols].apply(lambda x: x.nunique()).sort_values(ascending=False)"
      ],
      "execution_count": 30,
      "outputs": []
    },
    {
      "cell_type": "code",
      "metadata": {
        "id": "PvxKeH9YJUxz",
        "outputId": "af978b9d-2c86-4428-95db-cf2aa1803274",
        "colab": {
          "base_uri": "https://localhost:8080/"
        }
      },
      "source": [
        "num_ohc_cols"
      ],
      "execution_count": 39,
      "outputs": [
        {
          "output_type": "execute_result",
          "data": {
            "text/plain": [
              "Neighborhood     25\n",
              "Exterior2nd      16\n",
              "Exterior1st      14\n",
              "SaleType          9\n",
              "Condition1        9\n",
              "HouseStyle        8\n",
              "RoofMatl          8\n",
              "Condition2        8\n",
              "Functional        7\n",
              "BsmtFinType2      7\n",
              "FireplaceQu       6\n",
              "Foundation        6\n",
              "RoofStyle         6\n",
              "SaleCondition     6\n",
              "BsmtFinType1      6\n",
              "Heating           6\n",
              "GarageType        6\n",
              "BsmtExposure      5\n",
              "Electrical        5\n",
              "Fence             5\n",
              "GarageCond        5\n",
              "GarageQual        5\n",
              "BsmtQual          5\n",
              "LotConfig         5\n",
              "MSZoning          5\n",
              "MiscFeature       5\n",
              "BldgType          5\n",
              "HeatingQC         5\n",
              "KitchenQual       4\n",
              "LandContour       4\n",
              "BsmtCond          4\n",
              "LotShape          4\n",
              "MasVnrType        4\n",
              "ExterQual         4\n",
              "ExterCond         4\n",
              "PoolQC            4\n",
              "Alley             3\n",
              "GarageFinish      3\n",
              "LandSlope         3\n",
              "PavedDrive        3\n",
              "CentralAir        2\n",
              "Street            2\n",
              "Utilities         2\n",
              "dtype: int64"
            ]
          },
          "metadata": {
            "tags": []
          },
          "execution_count": 39
        }
      ]
    },
    {
      "cell_type": "code",
      "metadata": {
        "id": "bXcuPM3JAioA"
      },
      "source": [
        "# no need to encodeif there is only one value: \r\n",
        "small_num_ohc_col = num_ohc_cols.loc[num_ohc_cols > 1 ]"
      ],
      "execution_count": 31,
      "outputs": []
    },
    {
      "cell_type": "code",
      "metadata": {
        "id": "uYfTQUOKESHz"
      },
      "source": [
        "# Number of one hot columns is one less than the number of categorical columns : \r\n",
        "small_num_ohc_col -= 1"
      ],
      "execution_count": 32,
      "outputs": []
    },
    {
      "cell_type": "code",
      "metadata": {
        "colab": {
          "base_uri": "https://localhost:8080/"
        },
        "id": "sxAolcYEEzWv",
        "outputId": "f37039ec-3ca5-4a9e-8082-12cf9837f38b"
      },
      "source": [
        "# Check the new extra columns has been created: \r\n",
        "small_num_ohc_col.sum()"
      ],
      "execution_count": 33,
      "outputs": [
        {
          "output_type": "execute_result",
          "data": {
            "text/plain": [
              "215"
            ]
          },
          "metadata": {
            "tags": []
          },
          "execution_count": 33
        }
      ]
    },
    {
      "cell_type": "code",
      "metadata": {
        "id": "fJxjPgE9FIM7"
      },
      "source": [
        "# Create a new dataframe where all the categrical features will be hot encoded ; \r\n",
        "from sklearn.preprocessing import OneHotEncoder"
      ],
      "execution_count": 34,
      "outputs": []
    },
    {
      "cell_type": "code",
      "metadata": {
        "id": "CWeMk_JeIuKo"
      },
      "source": [
        "# Create acopy of the data: \r\n",
        "data_ohc = df.copy()"
      ],
      "execution_count": 36,
      "outputs": []
    },
    {
      "cell_type": "code",
      "metadata": {
        "id": "qduW6c-XIy6N"
      },
      "source": [
        "# Create OneHotEncoder: \r\n",
        "ohc = OneHotEncoder()"
      ],
      "execution_count": 37,
      "outputs": []
    },
    {
      "cell_type": "code",
      "metadata": {
        "id": "-qMhro92JpCq"
      },
      "source": [
        "for col in num_ohc_cols.index:\r\n",
        "\r\n",
        "  # onehotencode the data--this returns a spare array\r\n",
        "  new_dat = ohc.fit_transform(data_ohc[[col]])\r\n",
        "  # drop the original column from the dataframe:\r\n",
        "  data_ohc = data_ohc.drop(col, axis=1)\r\n",
        "  # Get the names of all unique values in the column:\r\n",
        "  cats = ohc.categories_\r\n",
        "  # create column names for each OHC column by value: \r\n",
        "  new_cols = ['_'.join([col, cat]) for cat in cats[0]]\r\n",
        "  #create a new datafream:\r\n",
        "  new_df = pd.DataFrame(new_dat.toarray(), columns=new_cols)\r\n",
        "  # Append the new_data to the DataFream: \r\n",
        "  data_ohc = pd.concat([data_ohc, new_df], axis=1)"
      ],
      "execution_count": 41,
      "outputs": []
    },
    {
      "cell_type": "code",
      "metadata": {
        "id": "aGCasoE2L0bK",
        "outputId": "ba46ddc8-ec2a-48f1-fcb9-febbcfd2331d",
        "colab": {
          "base_uri": "https://localhost:8080/"
        }
      },
      "source": [
        "# Columns diffrences is as calculated above : \r\n",
        "data_ohc.shape[1] - df.shape[1]"
      ],
      "execution_count": 42,
      "outputs": [
        {
          "output_type": "execute_result",
          "data": {
            "text/plain": [
              "215"
            ]
          },
          "metadata": {
            "tags": []
          },
          "execution_count": 42
        }
      ]
    },
    {
      "cell_type": "code",
      "metadata": {
        "id": "9DnNifjlMBg6",
        "outputId": "155066ed-d811-4766-c972-a67a31e4a7d7",
        "colab": {
          "base_uri": "https://localhost:8080/"
        }
      },
      "source": [
        "print(df.shape[1])\r\n",
        "# Remove the sting columns from the datafream: \r\n",
        "df = df.drop(num_ohc_cols.index, axis=1)\r\n",
        "print(df.shape[1])"
      ],
      "execution_count": 44,
      "outputs": [
        {
          "output_type": "stream",
          "text": [
            "80\n",
            "37\n"
          ],
          "name": "stdout"
        }
      ]
    },
    {
      "cell_type": "code",
      "metadata": {
        "id": "O2THEZ_lWhdD"
      },
      "source": [
        "y_cols = 'SalePrice'\r\n",
        "# Split the data that is not one_hot_encoded: \r\n",
        "features_cols = [x for x in df.columns if x != y_cols]\r\n",
        "x_data = df[features_cols]\r\n",
        "y_data = df[y_cols]\r\n",
        "x_train, x_test, y_train, y_test = train_test_split(x_data, y_data, test_size=0.3, random_state=42)\r\n",
        "# Split the data that is one_hot_encoded: \r\n",
        "features_cols = [x for x in data_ohc.columns if x != y_cols]\r\n",
        "x_data_ohc = data_ohc[features_cols]\r\n",
        "y_data_ohc = data_ohc[y_cols]\r\n",
        "x_train_ohc, x_test_ohc, y_train_ohc, y_test_ohc = train_test_split(x_data_ohc, y_data_ohc, test_size=0.3, random_state=42)"
      ],
      "execution_count": 92,
      "outputs": []
    },
    {
      "cell_type": "code",
      "metadata": {
        "id": "pMTuw6laZwTt",
        "outputId": "e4fc5b50-37a2-4089-cfca-1ffbf407f485",
        "colab": {
          "base_uri": "https://localhost:8080/"
        }
      },
      "source": [
        "# compare the indices to ensure they are they identical : \r\n",
        "(x_train.index == x_train_ohc.index).all()\r\n"
      ],
      "execution_count": 93,
      "outputs": [
        {
          "output_type": "execute_result",
          "data": {
            "text/plain": [
              "True"
            ]
          },
          "metadata": {
            "tags": []
          },
          "execution_count": 93
        }
      ]
    },
    {
      "cell_type": "code",
      "metadata": {
        "id": "9WSsVXsUcx1S"
      },
      "source": [
        "from sklearn.linear_model import LinearRegression\r\n",
        "from sklearn.metrics import  mean_squared_error\r\n"
      ],
      "execution_count": 94,
      "outputs": []
    },
    {
      "cell_type": "code",
      "metadata": {
        "id": "hu5wslArpMlZ",
        "outputId": "2a1b9640-51e7-47d4-fe3c-5cd1a319f827",
        "colab": {
          "base_uri": "https://localhost:8080/"
        }
      },
      "source": [
        "# Create the model: \r\n",
        "lr = LinearRegression()\r\n",
        "lr"
      ],
      "execution_count": 95,
      "outputs": [
        {
          "output_type": "execute_result",
          "data": {
            "text/plain": [
              "LinearRegression(copy_X=True, fit_intercept=True, n_jobs=None, normalize=False)"
            ]
          },
          "metadata": {
            "tags": []
          },
          "execution_count": 95
        }
      ]
    },
    {
      "cell_type": "code",
      "metadata": {
        "id": "cE6xMlteqKzf"
      },
      "source": [
        "# Storage the error values : \r\n",
        "error_df = list()\r\n"
      ],
      "execution_count": 96,
      "outputs": []
    },
    {
      "cell_type": "code",
      "metadata": {
        "id": "-y9Fwxc1pVIk",
        "outputId": "35929333-c755-48bd-cc64-36a313286055",
        "colab": {
          "base_uri": "https://localhost:8080/",
          "height": 106
        }
      },
      "source": [
        "\r\n",
        "# Data that have not been oneHotEncoded: \r\n",
        "lr = lr.fit(x_train, y_train)\r\n",
        "y_train_pred = lr.predict(x_train)\r\n",
        "y_test_pred = lr.predict(x_test)\r\n",
        "error_df.append(pd.Series({'train': mean_squared_error(y_train, y_train_pred),\r\n",
        "                           'test':mean_squared_error(y_test, y_test_pred)},\r\n",
        "                          name='No- Hot_endcoded'))\r\n",
        "# Data that have been oneHotEncoded: \r\n",
        "lr = lr.fit(x_train_ohc, y_train_ohc)\r\n",
        "y_train_ohc_pred = lr.predict(x_train_ohc)\r\n",
        "y_test_ohc_pred = lr.predict(x_test_ohc)\r\n",
        "error_df.append(pd.Series({'train': mean_squared_error(y_train_ohc, y_train_ohc_pred),\r\n",
        "                           'test':mean_squared_error(y_test_ohc, y_test_ohc_pred)},\r\n",
        "                          name='Hot_endcoded'))\r\n",
        "# Assemble the results : \r\n",
        "error_df = pd.concat(error_df, axis=1)\r\n",
        "error_df"
      ],
      "execution_count": 98,
      "outputs": [
        {
          "output_type": "execute_result",
          "data": {
            "text/html": [
              "<div>\n",
              "<style scoped>\n",
              "    .dataframe tbody tr th:only-of-type {\n",
              "        vertical-align: middle;\n",
              "    }\n",
              "\n",
              "    .dataframe tbody tr th {\n",
              "        vertical-align: top;\n",
              "    }\n",
              "\n",
              "    .dataframe thead th {\n",
              "        text-align: right;\n",
              "    }\n",
              "</style>\n",
              "<table border=\"1\" class=\"dataframe\">\n",
              "  <thead>\n",
              "    <tr style=\"text-align: right;\">\n",
              "      <th></th>\n",
              "      <th>No- Hot_endcoded</th>\n",
              "      <th>No- Hot_endcoded</th>\n",
              "      <th>Hot_endcoded</th>\n",
              "    </tr>\n",
              "  </thead>\n",
              "  <tbody>\n",
              "    <tr>\n",
              "      <th>train</th>\n",
              "      <td>1.131507e+09</td>\n",
              "      <td>1.131507e+09</td>\n",
              "      <td>3.177262e+08</td>\n",
              "    </tr>\n",
              "    <tr>\n",
              "      <th>test</th>\n",
              "      <td>1.372182e+09</td>\n",
              "      <td>1.372182e+09</td>\n",
              "      <td>2.089927e+17</td>\n",
              "    </tr>\n",
              "  </tbody>\n",
              "</table>\n",
              "</div>"
            ],
            "text/plain": [
              "       No- Hot_endcoded  No- Hot_endcoded  Hot_endcoded\n",
              "train      1.131507e+09      1.131507e+09  3.177262e+08\n",
              "test       1.372182e+09      1.372182e+09  2.089927e+17"
            ]
          },
          "metadata": {
            "tags": []
          },
          "execution_count": 98
        }
      ]
    },
    {
      "cell_type": "markdown",
      "metadata": {
        "id": "zvMZpYsUtRs_"
      },
      "source": [
        "#**Scale the values and compare the error calculated on the testset:**"
      ]
    },
    {
      "cell_type": "code",
      "metadata": {
        "id": "XAAE7J63r7uK"
      },
      "source": [
        "# Mute the setting with the copy warings : \r\n",
        "pd.options.mode.chained_assignment = None"
      ],
      "execution_count": 99,
      "outputs": []
    },
    {
      "cell_type": "code",
      "metadata": {
        "id": "yaiq4KkYtwXH"
      },
      "source": [
        "from sklearn.preprocessing import StandardScaler, MinMaxScaler"
      ],
      "execution_count": 100,
      "outputs": []
    },
    {
      "cell_type": "code",
      "metadata": {
        "id": "VbVktPzrt8ST"
      },
      "source": [
        "scalers = {'Standard': StandardScaler(),\r\n",
        "           'Minimax': MinMaxScaler()}\r\n",
        "           "
      ],
      "execution_count": 101,
      "outputs": []
    },
    {
      "cell_type": "code",
      "metadata": {
        "id": "FISwK16HuLyG",
        "outputId": "0df2c914-354e-41f2-d690-818c56fe2ed0",
        "colab": {
          "base_uri": "https://localhost:8080/"
        }
      },
      "source": [
        "# Initilize the model : \r\n",
        "lr = LinearRegression()\r\n",
        "lr"
      ],
      "execution_count": 102,
      "outputs": [
        {
          "output_type": "execute_result",
          "data": {
            "text/plain": [
              "LinearRegression(copy_X=True, fit_intercept=True, n_jobs=None, normalize=False)"
            ]
          },
          "metadata": {
            "tags": []
          },
          "execution_count": 102
        }
      ]
    },
    {
      "cell_type": "code",
      "metadata": {
        "id": "kdSdhoO0uZv1",
        "outputId": "bee12c83-b3ef-45a9-cb78-729fd0151767",
        "colab": {
          "base_uri": "https://localhost:8080/"
        }
      },
      "source": [
        "# Iterate over all possiable compaintions and get errors : \r\n",
        "errors = {}\r\n",
        "for scaler_label, scaler in scalers.items():\r\n",
        "  training_set = scaler.fit_transform(x_train)\r\n",
        "  test_set = scaler.fit_transform(x_test)\r\n",
        "  lr.fit(training_set, y_train)\r\n",
        "  predictions = lr.predict(test_set)\r\n",
        "  key = scaler_label + 'Scaling'\r\n",
        "  errors[key] = mean_squared_error(y_test, predictions)\r\n",
        "errors = pd.Series(errors)\r\n",
        "for key, error_val in errors.items():\r\n",
        "  print(key, error_val)"
      ],
      "execution_count": 108,
      "outputs": [
        {
          "output_type": "stream",
          "text": [
            "StandardScaling 1359298570.4070227\n",
            "MinimaxScaling 3696093684.070986\n"
          ],
          "name": "stdout"
        }
      ]
    },
    {
      "cell_type": "markdown",
      "metadata": {
        "id": "H12pmAi6w7X2"
      },
      "source": [
        "#**Plot predictions vs actual for one the mode:**"
      ]
    },
    {
      "cell_type": "code",
      "metadata": {
        "id": "GXKXoU_jwXRp",
        "outputId": "f0a96e44-7993-4bd4-bc7e-f6a483ae93ee",
        "colab": {
          "base_uri": "https://localhost:8080/",
          "height": 294
        }
      },
      "source": [
        "sns.set_context('talk')\r\n",
        "sns.set_style('ticks')\r\n",
        "sns.set_palette('dark')\r\n",
        "ax = plt.axes()\r\n",
        "ax.scatter(y_test, y_test_pred, alpha=0.5)"
      ],
      "execution_count": 109,
      "outputs": [
        {
          "output_type": "execute_result",
          "data": {
            "text/plain": [
              "<matplotlib.collections.PathCollection at 0x7f3cceb74908>"
            ]
          },
          "metadata": {
            "tags": []
          },
          "execution_count": 109
        },
        {
          "output_type": "display_data",
          "data": {
            "image/png": "[encoded data removed]",
            "text/plain": [
              "<Figure size 432x288 with 1 Axes>"
            ]
          },
          "metadata": {
            "tags": [],
            "image/png": {
              "width": 450,
              "height": 260
            }
          }
        }
      ]
    },
    {
      "cell_type": "code",
      "metadata": {
        "id": "YM0GbLdjxk6P"
      },
      "source": [
        ""
      ],
      "execution_count": null,
      "outputs": []
    }
  ]
}